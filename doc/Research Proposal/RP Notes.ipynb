{
 "metadata": {
  "name": "RP Notes"
 },
 "nbformat": 3,
 "nbformat_minor": 0,
 "worksheets": [
  {
   "cells": [
    {
     "cell_type": "markdown",
     "metadata": {},
     "source": "# Double check numerical example of adding structure in research proposal"
    },
    {
     "cell_type": "code",
     "collapsed": false,
     "input": "from sympy import *\nN_allc=50.0\nN_alld=50\nN_total=N_allc+N_alld\nT=3\nR=2\nP=1\nS=0\nr=Symbol('r')\nexpected_payoff_allc=((N_allc-1)/(N_total-1)) * R + (N_alld)/(N_total-1)*S\nexpected_payoff_allc_r=(1-r)*expected_payoff_allc + r*R\nexpected_payoff_alld=((N_allc)/(N_total-1)) * T + (N_alld-1)/(N_total-1)*P\nexpected_payoff_alld_r=(1-r)*expected_payoff_alld + r*P",
     "language": "python",
     "metadata": {},
     "outputs": [],
     "prompt_number": 36
    },
    {
     "cell_type": "code",
     "collapsed": false,
     "input": "expected_payoff_allc_r",
     "language": "python",
     "metadata": {},
     "outputs": [
      {
       "metadata": {},
       "output_type": "pyout",
       "prompt_number": 37,
       "text": "1.01010101010101*r + 0.98989898989899"
      }
     ],
     "prompt_number": 37
    },
    {
     "cell_type": "code",
     "collapsed": false,
     "input": "expected_payoff_alld_r",
     "language": "python",
     "metadata": {},
     "outputs": [
      {
       "metadata": {},
       "output_type": "pyout",
       "prompt_number": 38,
       "text": "-1.01010101010101*r + 2.01010101010101"
      }
     ],
     "prompt_number": 38
    },
    {
     "cell_type": "code",
     "collapsed": false,
     "input": "expected_payoff_allc_r>expected_payoff_alld_r",
     "language": "python",
     "metadata": {},
     "outputs": [
      {
       "metadata": {},
       "output_type": "pyout",
       "prompt_number": 40,
       "text": "1.01010101010101*r + 0.98989898989899 > -1.01010101010101*r + 2.01010101010101"
      }
     ],
     "prompt_number": 40
    },
    {
     "cell_type": "code",
     "collapsed": false,
     "input": "99*expected_payoff_allc_r>99*expected_payoff_alld_r",
     "language": "python",
     "metadata": {},
     "outputs": [
      {
       "metadata": {},
       "output_type": "pyout",
       "prompt_number": 47,
       "text": "100.0*r + 98.0 > -100.0*r + 199.0"
      }
     ],
     "prompt_number": 47
    },
    {
     "cell_type": "code",
     "collapsed": false,
     "input": "",
     "language": "python",
     "metadata": {},
     "outputs": [],
     "prompt_number": 47
    },
    {
     "cell_type": "code",
     "collapsed": false,
     "input": "",
     "language": "python",
     "metadata": {},
     "outputs": []
    }
   ],
   "metadata": {}
  }
 ]
}