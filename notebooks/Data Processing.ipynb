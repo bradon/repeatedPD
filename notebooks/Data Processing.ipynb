{
 "metadata": {
  "name": ""
 },
 "nbformat": 3,
 "nbformat_minor": 0,
 "worksheets": [
  {
   "cells": [
    {
     "cell_type": "markdown",
     "metadata": {},
     "source": [
      "#Define functions"
     ]
    },
    {
     "cell_type": "code",
     "collapsed": false,
     "input": [
      "import csv, re\n",
      "import numpy as np\n",
      "import matplotlib.pyplot as plt\n",
      "# Return generator to read through generations\n",
      "def readTimeSeries(filename):\n",
      "    with open(filename,'rb') as timeSeriesFile:\n",
      "        timeSeriesReader=csv.reader(timeSeriesFile)\n",
      "        #Ignore header\n",
      "        timeSeriesReader.next()\n",
      "        for generation in timeSeriesReader:\n",
      "            yield generation\n",
      "            \n",
      "# Process strategies field and return a dictionary of strategy: count\n",
      "def processPopulation(population):\n",
      "    populationArray=population.split(';')\n",
      "    d={}\n",
      "    for i in range(len(populationArray)):\n",
      "        strategyCountPairStrings=str(populationArray[i]).split(',')\n",
      "        countString=strategyCountPairStrings[len(strategyCountPairStrings)-1].split(':')\n",
      "        count=int(countString[len(countString)-1].strip())\n",
      "        d[strategyCountPairStrings[0].strip()]=count\n",
      "    return d\n",
      "    \n",
      "# Process csv into a dictionary of counts over entire run\n",
      "def processTimeSeries(filename):\n",
      "    d={}\n",
      "    for generation in readTimeSeries(filename):\n",
      "        try:\n",
      "            d2=processPopulation(generation[2])\n",
      "            for k in d2:\n",
      "                try:\n",
      "                    d[k]=d[k]+d2[k]\n",
      "                except KeyError:\n",
      "                    d[k]=d2[k]\n",
      "        except:\n",
      "            print(\"Error- probably last line\")\n",
      "    return(d)\n",
      "\n",
      "# Process csv into a dictionary of counts over entire run\n",
      "def processTimeSeriesSkip(filename, skip_rows, max_row):\n",
      "    d={}\n",
      "    i=0\n",
      "    for generation in readTimeSeries(filename):\n",
      "        i=i+1\n",
      "        if i>skip_rows and i<max_row:\n",
      "            try:\n",
      "                d2=processPopulation(generation[2])\n",
      "                for k in d2:\n",
      "                    try:\n",
      "                        d[k]=d[k]+d2[k]\n",
      "                    except KeyError:\n",
      "                        d[k]=d2[k]\n",
      "            except:\n",
      "                print(\"Error- probably last line\")\n",
      "    return(d)\n",
      "\n",
      "def printTop(d, limit):\n",
      "    count=0;\n",
      "    for key, value in sorted(d.iteritems(), key=lambda(k,v):(v,k), reverse=True):\n",
      "        count=count+1\n",
      "        print \"%s, %s\" % (key, value)\n",
      "        if count>limit:\n",
      "            break\n",
      "\n",
      "def processTimeSeriesSimple(file_path_prefix, set_number, delta, r):\n",
      "    blueprint=file_path_prefix+\"_set_{}_delta_{}_r_{}.csv\"\n",
      "    return processTimeSeries(blueprint.format(set_number, delta, r))\n",
      "            \n",
      "def averagePayoff(filename):\n",
      "    count=-1\n",
      "    running_sum=0\n",
      "    for generation in readTimeSeries(filename):\n",
      "        try:\n",
      "            count=count+1\n",
      "            #print(generation[1])\n",
      "            running_sum=running_sum+float(generation[1])\n",
      "        except:\n",
      "            print(\"Error- probably last line\")\n",
      "    return (1.0*running_sum/count)\n",
      "\n",
      "def buildGraph(assortment_vector, delta_vector, number_of_sets, file_path_prefix):\n",
      "    dta=[]\n",
      "    arr=[]\n",
      "    coop=[]\n",
      "    #C:\\Users\\bradon\\Desktop\\30OCT2\\Chopped\n",
      "    blueprint=file_path_prefix+\"_set_{}_delta_{}_r_{}.csv\"\n",
      "    #blueprint='C:\\\\Users\\\\bradon\\\\Desktop\\\\30OCT2\\\\Chopped\\\\DPDALongRun30OCT2_set_{}_delta_{}_r_{}.csv'\n",
      "    #blueprint = 'C:\\\\Users\\\\bradon\\\\Desktop\\\\Detailed Run\\\\DPDALongRun24OCT_set_{}_delta_{}_r_{}.csv'\n",
      "    for r in assortment_vector:\n",
      "        for delta in delta_vector:\n",
      "            for set_number in range(number_of_sets):\n",
      "                coop.append(averagePayoff(blueprint.format(set_number, delta, r)))\n",
      "                arr.append(r)\n",
      "                dta.append(delta)\n",
      "                \n",
      "    plt.scatter(dta, arr, c=coop,s=100)\n",
      "    fig=plt.show()\n",
      "    return [dta, arr, coop]\n",
      "    "
     ],
     "language": "python",
     "metadata": {},
     "outputs": [],
     "prompt_number": 3
    },
    {
     "cell_type": "markdown",
     "metadata": {},
     "source": [
      "#Data"
     ]
    },
    {
     "cell_type": "code",
     "collapsed": false,
     "input": [
      "d=processTimeSeriesSkip(\"C:\\\\Users\\\\bradon\\\\Desktop\\\\FinalNotes\\\\FINALRUN_set_0_delta_0.975_r_0.325.csv\", 1000, 2000)"
     ],
     "language": "python",
     "metadata": {},
     "outputs": [],
     "prompt_number": 28
    },
    {
     "cell_type": "code",
     "collapsed": false,
     "input": [
      "printTop(d,25)"
     ],
     "language": "python",
     "metadata": {},
     "outputs": [
      {
       "output_type": "stream",
       "stream": "stdout",
       "text": [
        "Strategy : S#q0FIT#q0-q0vC.l->a&, 203890\n",
        "Strategy : S#q0IT#q0-q0vC.l->a&q0-q0vD.l->l&, 37653\n",
        "Strategy : S#q0FIT#q0-q0vC.l->a&q0-q0vD.l->l&, 3107\n",
        "Strategy : S#q0IT#q0-q0vD.l->l&, 2164\n",
        "Strategy : S#q0FI&q1T#q0-q1vC.l->a&q1-q0vl.l->l&, 1573\n",
        "Strategy : S#q0IT#q0-q0vC.l->a&, 327\n",
        "Strategy : S#q0FI&q1FT#q0-q1vC.l->a&q1-q0vC.a->a&, 228\n",
        "Strategy : S#q0FIT#q0-q0vC.l->a&q0-q0vD.l->a&, 136\n",
        "Strategy : S#q0FIT#q0-q0vC.l->a&q0-q0vD.$->$&, 124\n",
        "Strategy : S#q0FIT#, 112\n",
        "Strategy : S#q0I&q1T#q0-q0vC.l->a&q0-q1vD.l->l&q1-q0vl.a->a&, 96\n",
        "Strategy : S#q0FI&q1FT#q0-q1vC.l->a&q1-q0vC.l->l&, 50\n",
        "Strategy : S#q0FIT#q0-q0vC.l->a&q0-q0vD.a->l&, 48\n",
        "Strategy : S#q0FIT#q0-q0vC.l->a&q0-q0vD.a->a&, 39\n",
        "Strategy : S#q0FIT#q0-q0vD.l->l&, 30\n",
        "Strategy : S#q0I&q1T#q0-q0vC.l->a&q0-q1vD.l->l&q1-q0vD.a->a&, 26\n",
        "Strategy : S#q0IT#, 14\n",
        "Strategy : S#q0FI&q1T#q0-q1vC.l->a&q1-q0vl.$->$&, 14\n",
        "Strategy : S#q0FI&q1FT#q0-q1vC.l->a&q1-q0vl.l->l&, 12\n",
        "Strategy : S#q0FI&q1FT#q0-q1vC.l->a&q1-q1vC.l->l&, 8\n",
        "Strategy : S#q0FI&q1FT#q0-q1vC.l->a&q1-q0vC.a->l&, 7\n",
        "Strategy : S#q0I&q1FT#q0-q0vC.l->a&q0-q1vD.l->l&q1-q1vC.$->$&, 6\n",
        "Strategy : S#q0FI&q1T#q0-q1vC.l->a&q1-q1vC.l->l&, 6\n",
        "Strategy : S#q0FI&q1FT#q0-q1vC.l->a&q1-q0vC.l->a&, 6\n",
        "Strategy : S#q0FI&q1FT#q0-q1vl.l->a&q1-q0vC.l->l&, 5\n",
        "Strategy : S#q0FI&q1FT#q0-q1vC.l->a&q1-q0vl.l->a&, 5\n"
       ]
      }
     ],
     "prompt_number": 29
    },
    {
     "cell_type": "markdown",
     "metadata": {},
     "source": [
      "#Region 1 Most Common Strategies"
     ]
    },
    {
     "cell_type": "code",
     "collapsed": false,
     "input": [
      "printTop(processTimeSeriesSimple(\"E:\\\\DataSet1\\\\Grid\",0,0.0,0.0),25)"
     ],
     "language": "python",
     "metadata": {},
     "outputs": [
      {
       "output_type": "stream",
       "stream": "stdout",
       "text": [
        "Strategy : S#q0IT#, 26170938\n",
        "Strategy : S#q0IT#q0-q0vD.$->$&, 2119673\n",
        "Strategy : S#q0IT#q0-q0vC.$->$&, 1788109\n",
        "Strategy : S#q0IT#q0-q0vC.l->l&, 1394197\n",
        "Strategy : S#q0IT#q0-q0vl.a->l&, 1390827\n",
        "Strategy : S#q0IT#q0-q0vC.l->a&, 1251412\n",
        "Strategy : S#q0IT#q0-q0vD.l->l&, 1120228\n",
        "Strategy : S#q0IT#q0-q0vD.l->a&, 1078761\n",
        "Strategy : S#q0IT#q0-q0vD.a->a&, 979916\n",
        "Strategy : S#q0IT#q0-q0vC.a->l&, 820755\n",
        "Strategy : S#q0IT#q0-q0vC.a->a&, 813259\n",
        "Strategy : S#q0IT#q0-q0vD.a->l&, 682946\n",
        "Strategy : S#q0IT#q0-q0vD.$->$&q0-q0vC.$->$&, 234374\n",
        "Strategy : S#q0IT#q0-q0vC.$->$&q0-q0vD.$->$&, 222160\n",
        "Strategy : S#q0IT#q0-q0vC.l->l&q0-q0vD.l->l&, 184425\n",
        "Strategy : S#q0IT#q0-q0vC.$->$&q0-q0vD.l->a&, 182031\n",
        "Strategy : S#q0IT#q0-q0vC.$->$&q0-q0vD.a->l&, 178053\n",
        "Strategy : S#q0IT#q0-q0vC.l->l&q0-q0vD.$->$&, 176956\n",
        "Strategy : S#q0IT#q0-q0vC.$->$&q0-q0vD.a->a&, 155513\n",
        "Strategy : S#q0IT#q0-q0vC.a->l&q0-q0vD.$->$&, 154210\n",
        "Strategy : S#q0IT#q0-q0vC.$->l&q0-q0vD.$->$&, 147930\n",
        "Strategy : S#q0IT#q0-q0vD.$->$&q0-q0vC.l->l&, 144162\n",
        "Strategy : S#q0IT#q0-q0vC.$->$&q0-q0vD.l->l&, 141716\n",
        "Strategy : S#q0IT#q0-q0vC.a->a&q0-q0vD.$->$&, 137881\n",
        "Strategy : S#q0IT#q0-q0vD.a->l&q0-q0vC.a->l&, 134980\n",
        "Strategy : S#q0IT#q0-q0vD.$->$&q0-q0vD.a->a&q0-q0vC.a->l&, 134077\n"
       ]
      }
     ],
     "prompt_number": 4
    },
    {
     "cell_type": "code",
     "collapsed": false,
     "input": [
      "printTop(processTimeSeriesSimple(\"E:\\\\DataSet1\\\\Grid\",0,0.2,0.2),25)"
     ],
     "language": "python",
     "metadata": {},
     "outputs": [
      {
       "output_type": "stream",
       "stream": "stdout",
       "text": [
        "Strategy : S#q0IT#, 18922748\n",
        "Strategy : S#q0IT#q0-q0vC.$->$&, 2077039\n",
        "Strategy : S#q0IT#q0-q0vD.$->$&, 1847528\n",
        "Strategy : S#q0IT#q0-q0vD.l->l&, 1252550\n",
        "Strategy : S#q0IT#q0-q0vl.a->l&, 896084\n",
        "Strategy : S#q0IT#q0-q0vD.a->a&, 823354\n",
        "Strategy : S#q0IT#q0-q0vD.a->l&, 788674\n",
        "Strategy : S#q0IT#q0-q0vC.a->a&, 785865\n",
        "Strategy : S#q0IT#q0-q0vC.a->l&, 766679\n",
        "Strategy : S#q0IT#q0-q0vC.l->a&, 740633\n",
        "Strategy : S#q0IT#q0-q0vC.l->l&, 717709\n",
        "Strategy : S#q0IT#q0-q0vD.l->a&, 693121\n",
        "Strategy : S#q0IT#q0-q0vD.$->$&q0-q0vD.a->l&, 225156\n",
        "Strategy : S#q0IT#q0-q0vD.$->$&q0-q0vC.$->$&, 212665\n",
        "Strategy : S#q0IT#q0-q0vC.$->$&q0-q0vD.$->$&, 209999\n",
        "Strategy : S#q0IT#q0-q0vD.a->l&q0-q0vC.a->l&, 162223\n",
        "Strategy : S#q0IT#q0-q0vD.l->l&q0-q0vC.a->l&, 157005\n",
        "Strategy : S#q0IT#q0-q0vD.$->$&q0-q0vD.a->a&, 115211\n",
        "Strategy : S#q0IT#q0-q0vC.a->a&q0-q0vD.$->$&, 115061\n",
        "Strategy : S#q0IT#q0-q0vD.l->l&q0-q0vC.$->$&, 113926\n",
        "Strategy : S#q0IT#q0-q0vC.$->$&q0-q0vD.a->a&, 97183\n",
        "Strategy : S#q0IT#q0-q0vC.$->$&q0-q0vD.a->l&, 94338\n",
        "Strategy : S#q0IT#q0-q0vD.a->a&q0-q0vD.$->$&, 82746\n",
        "Strategy : S#q0IT#q0-q0vD.a->a&q0-q0vC.l->l&, 76732\n",
        "Strategy : S#q0IT#q0-q0vD.a->a&q0-q0vC.a->l&, 75787\n",
        "Strategy : S#q0IT#q0-q0vD.l->l&q0-q0vC.l->l&, 73748\n"
       ]
      }
     ],
     "prompt_number": 6
    },
    {
     "cell_type": "markdown",
     "metadata": {},
     "source": [
      "#Region 2 Common Strategies"
     ]
    },
    {
     "cell_type": "code",
     "collapsed": false,
     "input": [
      "printTop(processTimeSeriesSimple(\"E:\\\\DataSet1\\\\Grid\",0,0.5,0.2),25)"
     ],
     "language": "python",
     "metadata": {},
     "outputs": [
      {
       "output_type": "stream",
       "stream": "stdout",
       "text": [
        "Strategy : S#q0IT#, 22539195\n",
        "Strategy : S#q0IT#q0-q0vC.$->$&, 1679987\n",
        "Strategy : S#q0IT#q0-q0vD.$->$&, 1673286\n",
        "Strategy : S#q0IT#q0-q0vD.l->l&, 1308726\n",
        "Strategy : S#q0IT#q0-q0vC.l->l&, 1271520\n",
        "Strategy : S#q0IT#q0-q0vl.a->l&, 1137225\n",
        "Strategy : S#q0IT#q0-q0vD.a->l&, 1089449\n",
        "Strategy : S#q0IT#q0-q0vC.l->a&, 1038890\n",
        "Strategy : S#q0IT#q0-q0vD.a->a&, 1009262\n",
        "Strategy : S#q0IT#q0-q0vC.a->l&, 958101\n",
        "Strategy : S#q0IT#q0-q0vD.l->a&, 938704\n",
        "Strategy : S#q0IT#q0-q0vC.a->a&, 867243\n",
        "Strategy : S#q0IT#q0-q0vC.$->$&q0-q0vD.$->$&, 239152\n",
        "Strategy : S#q0IT#q0-q0vD.$->$&q0-q0vC.l->l&, 191292\n",
        "Strategy : S#q0IT#q0-q0vC.l->l&q0-q0vD.$->$&, 177279\n",
        "Strategy : S#q0IT#q0-q0vD.$->$&q0-q0vC.$->$&, 161126\n",
        "Strategy : S#q0IT#q0-q0vC.a->l&q0-q0vD.$->$&, 152360\n",
        "Strategy : S#q0IT#q0-q0vD.$->$&q0-q0vD.a->a&, 129148\n",
        "Strategy : S#q0IT#q0-q0vD.l->l&q0-q0vC.a->a&, 127275\n",
        "Strategy : S#q0IT#q0-q0vD.l->l&q0-q0vC.a->l&, 123532\n",
        "Strategy : S#q0IT#q0-q0vD.l->a&q0-q0vC.$->$&, 118513\n",
        "Strategy : S#q0IT#q0-q0vD.a->a&q0-q0vC.l->a&, 107885\n",
        "Strategy : S#q0IT#q0-q0vD.$->$&q0-q0vD.a->l&, 107367\n",
        "Strategy : S#q0IT#q0-q0vD.a->a&q0-q0vD.$->$&, 99508\n",
        "Strategy : S#q0IT#q0-q0vC.a->l&q0-q0vC.$->$&, 95392\n",
        "Strategy : S#q0IT#q0-q0vD.$->$&q0-q0vC.l->a&, 94477\n"
       ]
      }
     ],
     "prompt_number": 8
    },
    {
     "cell_type": "code",
     "collapsed": false,
     "input": [
      "printTop(processTimeSeriesSimple(\"E:\\\\DataSet1\\\\Grid\",0,0.5,0.3),25)"
     ],
     "language": "python",
     "metadata": {},
     "outputs": [
      {
       "output_type": "stream",
       "stream": "stdout",
       "text": [
        "Strategy : S#q0IT#, 16968078\n",
        "Strategy : S#q0IT#q0-q0vC.$->$&, 1864639\n",
        "Strategy : S#q0IT#q0-q0vD.$->$&, 1442606\n",
        "Strategy : S#q0IT#q0-q0vC.a->l&, 805491\n",
        "Strategy : S#q0IT#q0-q0vC.l->l&, 765785\n",
        "Strategy : S#q0IT#q0-q0vC.l->a&, 764043\n",
        "Strategy : S#q0IT#q0-q0vD.a->l&, 742014\n",
        "Strategy : S#q0IT#q0-q0vD.l->l&, 737500\n",
        "Strategy : S#q0IT#q0-q0vD.l->a&, 672535\n",
        "Strategy : S#q0IT#q0-q0vl.a->l&, 610106\n",
        "Strategy : S#q0IT#q0-q0vC.a->a&, 538133\n",
        "Strategy : S#q0IT#q0-q0vD.a->a&, 511973\n",
        "Strategy : S#q0IT#q0-q0vD.$->$&q0-q0vC.$->$&, 301704\n",
        "Strategy : S#q0IT#q0-q0vC.$->$&q0-q0vD.$->$&, 278739\n",
        "Strategy : S#q0IT#q0-q0vD.$->$&q0-q0vC.l->a&, 160730\n",
        "Strategy : S#q0IT#q0-q0vD.a->l&q0-q0vC.$->$&, 143394\n",
        "Strategy : S#q0IT#q0-q0vC.$->$&q0-q0vD.l->a&, 127495\n",
        "Strategy : S#q0IT#q0-q0vC.l->a&q0-q0vD.a->l&, 100361\n",
        "Strategy : S#q0IT#q0-q0vD.$->$&q0-q0vD.a->a&, 89631\n",
        "Strategy : S#q0IT#q0-q0vC.$->$&q0-q0vD.a->a&, 85939\n",
        "Strategy : S#q0IT#q0-q0vC.a->a&q0-q0vD.l->a&, 84960\n",
        "Strategy : S#q0IT#q0-q0vC.l->l&q0-q0vD.l->l&, 84856\n",
        "Strategy : S#q0IT#q0-q0vC.a->a&q0-q0vD.$->$&q0-q0vC.$->$&, 79641\n",
        "Strategy : S#q0IT#q0-q0vD.a->a&q0-q0vD.$->$&, 78901\n",
        "Strategy : S#q0IT#q0-q0vC.a->a&q0-q0vD.l->l&, 71659\n",
        "Strategy : S#q0IT#q0-q0vC.a->l&q0-q0vD.l->l&, 70128\n"
       ]
      }
     ],
     "prompt_number": 9
    },
    {
     "cell_type": "code",
     "collapsed": false,
     "input": [
      "printTop(processTimeSeriesSimple(\"E:\\\\DataSet1\\\\Grid\",0,0.7,0.1),25)"
     ],
     "language": "python",
     "metadata": {},
     "outputs": [
      {
       "output_type": "stream",
       "stream": "stdout",
       "text": [
        "Strategy : S#q0IT#, 20761542\n",
        "Strategy : S#q0IT#q0-q0vD.$->$&, 2010726\n",
        "Strategy : S#q0IT#q0-q0vC.$->$&, 1880412\n",
        "Strategy : S#q0IT#q0-q0vD.a->a&, 1119685\n",
        "Strategy : S#q0IT#q0-q0vD.l->l&, 957054\n",
        "Strategy : S#q0IT#q0-q0vC.l->l&, 951128\n",
        "Strategy : S#q0IT#q0-q0vC.a->l&, 937319\n",
        "Strategy : S#q0IT#q0-q0vD.a->l&, 935452\n",
        "Strategy : S#q0IT#q0-q0vD.l->a&, 878336\n",
        "Strategy : S#q0IT#q0-q0vl.a->l&, 788581\n",
        "Strategy : S#q0IT#q0-q0vC.a->a&, 750114\n",
        "Strategy : S#q0IT#q0-q0vC.l->a&, 612523\n",
        "Strategy : S#q0IT#q0-q0vC.$->$&q0-q0vC.a->a&, 145596\n",
        "Strategy : S#q0IT#q0-q0vD.a->l&q0-q0vC.$->$&, 142910\n",
        "Strategy : S#q0IT#q0-q0vD.$->$&q0-q0vC.l->a&, 139351\n",
        "Strategy : S#q0IT#q0-q0vC.l->l&q0-q0vD.a->l&, 134323\n",
        "Strategy : S#q0IT#q0-q0vD.$->$&q0-q0vC.$->$&, 132246\n",
        "Strategy : S#q0IT#q0-q0vD.l->l&q0-q0vC.l->l&, 128785\n",
        "Strategy : S#q0IT#q0-q0vC.$->$&q0-q0vC.a->l&, 123667\n",
        "Strategy : S#q0IT#q0-q0vD.a->a&q0-q0vD.$->$&, 121091\n",
        "Strategy : S#q0IT#q0-q0vD.a->l&q0-q0vC.a->l&, 117941\n",
        "Strategy : S#q0IT#q0-q0vC.l->l&q0-q0vD.$->$&, 116901\n",
        "Strategy : S#q0IT#q0-q0vC.l->a&q0-q0vD.$->$&, 116025\n",
        "Strategy : S#q0IT#q0-q0vD.a->a&q0-q0vC.$->$&, 113265\n",
        "Strategy : S#q0IT#q0-q0vD.a->a&q0-q0vC.a->a&, 102856\n",
        "Strategy : S#q0IT#q0-q0vD.l->a&q0-q0vC.a->l&, 102230\n"
       ]
      }
     ],
     "prompt_number": 10
    },
    {
     "cell_type": "code",
     "collapsed": false,
     "input": [
      "printTop(processTimeSeriesSimple(\"E:\\\\DataSet1\\\\Grid\",0,0.7,0.3),25)"
     ],
     "language": "python",
     "metadata": {},
     "outputs": [
      {
       "output_type": "stream",
       "stream": "stdout",
       "text": [
        "Strategy : S#q0FIT#q0-q0vC.$->$&, 9162471\n",
        "Strategy : S#q0IT#, 6992051\n",
        "Strategy : S#q0FIT#q0-q0vC.l->l&, 3439693\n",
        "Strategy : S#q0FIT#q0-q0vC.l->a&, 2160547\n",
        "Strategy : S#q0IT#q0-q0vD.$->$&, 1014683\n",
        "Strategy : S#q0FIT#q0-q0vC.$->$&q0-q0vD.a->a&, 899605\n",
        "Strategy : S#q0FIT#q0-q0vC.$->$&q0-q0vC.a->a&, 804978\n",
        "Strategy : S#q0FIT#q0-q0vC.$->$&q0-q0vC.a->l&, 739810\n",
        "Strategy : S#q0IT#q0-q0vC.$->$&, 603177\n",
        "Strategy : S#q0FIT#q0-q0vC.$->$&q0-q0vD.a->l&, 502134\n",
        "Strategy : S#q0FIT#q0-q0vC.$->l&, 459320\n",
        "Strategy : S#q0IT#q0-q0vD.l->l&, 425580\n",
        "Strategy : S#q0FIT#q0-q0vC.l->l&q0-q0vD.a->a&, 350094\n",
        "Strategy : S#q0IT#q0-q0vC.l->a&, 323292\n",
        "Strategy : S#q0IT#q0-q0vC.a->a&, 315460\n",
        "Strategy : S#q0IT#q0-q0vC.l->l&, 314288\n",
        "Strategy : S#q0FIT#q0-q0vC.l->l&q0-q0vD.a->l&, 283023\n",
        "Strategy : S#q0IT#q0-q0vD.a->a&, 281664\n",
        "Strategy : S#q0IT#q0-q0vC.a->l&, 261440\n",
        "Strategy : S#q0IT#q0-q0vD.a->l&, 261430\n",
        "Strategy : S#q0IT#q0-q0vl.a->l&, 247640\n",
        "Strategy : S#q0IT#q0-q0vD.l->a&, 227446\n",
        "Strategy : S#q0IT#q0-q0vD.$->$&q0-q0vC.l->l&, 202872\n",
        "Strategy : S#q0FIT#q0-q0vC.$->l&q0-q0vC.a->a&, 195137\n",
        "Strategy : S#q0IT#q0-q0vC.$->$&q0-q0vD.$->$&, 154018\n",
        "Strategy : S#q0IT#q0-q0vC.$->$&q0-q0vC.a->a&q0-q0vD.l->a&, 150888\n"
       ]
      }
     ],
     "prompt_number": 11
    },
    {
     "cell_type": "code",
     "collapsed": false,
     "input": [
      "grimcount=9162471+3439693+2160547+899605+804978+739810+502134+459320+350094+283023\n",
      "alldcount=6992051+1014683+603177+425580+323292+315460+314288+281664+261440+261430\n",
      "1.0*grimcount/(grimcount+alldcount)"
     ],
     "language": "python",
     "metadata": {},
     "outputs": [
      {
       "metadata": {},
       "output_type": "pyout",
       "prompt_number": 16,
       "text": [
        "0.6353046183206881"
       ]
      }
     ],
     "prompt_number": 16
    },
    {
     "cell_type": "code",
     "collapsed": false,
     "input": [
      "printTop(processTimeSeriesSimple(\"E:\\\\DataSet1\\\\Grid\",0,0.99,0.0),25)"
     ],
     "language": "python",
     "metadata": {},
     "outputs": [
      {
       "output_type": "stream",
       "stream": "stdout",
       "text": [
        "Strategy : S#q0FIT#q0-q0vC.l->a&, 2956625\n",
        "Strategy : S#q0FIT#q0-q0vC.$->$&, 1710361\n",
        "Strategy : S#q0FIT#q0-q0vC.l->l&, 1622309\n",
        "Strategy : S#q0FIT#q0-q0vC.$->$&q0-q0vD.a->a&, 529999\n",
        "Strategy : S#q0FIT#q0-q0vC.l->l&q0-q0vD.a->l&, 277663\n",
        "Strategy : S#q0IT#, 247510\n",
        "Strategy : S#q0FIT#q0-q0vC.l->a&q0-q0vD.a->l&, 245985\n",
        "Strategy : S#q0FIT#q0-q0vD.a->l&q0-q0vC.l->l&, 228875\n",
        "Strategy : S#q0FIT#q0-q0vC.$->$&q0-q0vD.a->l&, 158221\n",
        "Strategy : S#q0FIT#q0-q0vC.$->$&q0-q0vC.a->l&, 122825\n",
        "Strategy : S#q0FIT#q0-q0vC.$->$&q0-q0vC.a->a&, 121495\n",
        "Strategy : S#q0IT#q0-q0vC.a->l&, 49271\n",
        "Strategy : S#q0FIT#q0-q0vC.a->l&q0-q0vC.$->$&, 46751\n",
        "Strategy : S#q0FIT#q0-q0vC.$->l&q0-q0vD.a->a&, 44802\n",
        "Strategy : S#q0FIT#q0-q0vC.l->l&q0-q0vD.a->a&, 40941\n",
        "Strategy : S#q0FI&q1T#q0-q1vC.l->a&q1-q0vl.$->$&, 38912\n",
        "Strategy : S#q0FIT#q0-q0vC.$->$&q0-q0vD.a->l&q0-q0vC.a->a&, 33439\n",
        "Strategy : S#q0FIT#q0-q0vC.l->a&q0-q0vD.$->$&, 29992\n",
        "Strategy : S#q0FI&q1T#q0-q1vC.l->a&q1-q0vD.a->a&q1-q1vD.$->$&q1-q0vC.$->$&, 29414\n",
        "Strategy : S#q0FIT#q0-q0vC.l->a&q0-q0vD.a->a&, 26073\n",
        "Strategy : S#q0IT#q0-q0vD.a->a&q0-q0vD.$->a&q0-q0vC.$->$&, 25991\n",
        "Strategy : S#q0FIT#q0-q0vD.a->a&q0-q0vC.$->$&, 24796\n",
        "Strategy : S#q0FI&q1T#q0-q1vC.l->a&q1-q0vD.a->a&q1-q1vC.a->a&q1-q1vC.$->$&q1-q1vD.$->$&, 24177\n",
        "Strategy : S#q0FI&q1FT#q0-q1vC.$->$&q1-q1vC.l->a&, 23365\n",
        "Strategy : S#q0FIT#q0-q0vC.$->$&q0-q0vD.$->$&, 23283\n",
        "Strategy : S#q0FIT#q0-q0vC.l->a&q0-q0vD.l->l&, 19799\n"
       ]
      }
     ],
     "prompt_number": 18
    },
    {
     "cell_type": "code",
     "collapsed": false,
     "input": [
      "Grim=2956625+1710361+1622309+529999+277663+228875\n",
      "Grudge=245985\n",
      "alld=247510\n",
      "1.0*Grudge/(Grim+Grudge+alld)"
     ],
     "language": "python",
     "metadata": {},
     "outputs": [
      {
       "metadata": {},
       "output_type": "pyout",
       "prompt_number": 21,
       "text": [
        "0.03145858972261935"
       ]
      }
     ],
     "prompt_number": 21
    },
    {
     "cell_type": "code",
     "collapsed": false,
     "input": [
      "printTop(processTimeSeriesSimple(\"E:\\\\DataSet1\\\\Grid\",0,0.95,0.2),25)"
     ],
     "language": "python",
     "metadata": {},
     "outputs": [
      {
       "output_type": "stream",
       "stream": "stdout",
       "text": [
        "Strategy : S#q0FIT#q0-q0vC.$->$&, 8093186\n",
        "Strategy : S#q0FIT#q0-q0vC.l->l&, 4454370\n",
        "Strategy : S#q0FIT#q0-q0vC.$->l&, 2400387\n",
        "Strategy : S#q0FIT#q0-q0vC.l->a&, 1584616\n",
        "Strategy : S#q0FIT#q0-q0vC.$->$&q0-q0vD.a->a&, 913315\n",
        "Strategy : S#q0FIT#q0-q0vC.$->$&q0-q0vC.a->l&, 833111\n",
        "Strategy : S#q0FIT#q0-q0vC.$->$&q0-q0vD.a->l&, 790509\n",
        "Strategy : S#q0IT#, 612094\n",
        "Strategy : S#q0FIT#q0-q0vC.l->l&q0-q0vD.a->a&, 522279\n",
        "Strategy : S#q0FIT#q0-q0vC.$->$&q0-q0vC.a->a&, 481484\n",
        "Strategy : S#q0FIT#q0-q0vC.$->l&q0-q0vC.a->a&, 301791\n",
        "Strategy : S#q0FIT#q0-q0vC.$->l&q0-q0vC.a->l&, 280165\n",
        "Strategy : S#q0FIT#q0-q0vC.l->l&q0-q0vD.a->l&, 270309\n",
        "Strategy : S#q0FIT#q0-q0vC.$->l&q0-q0vD.a->l&, 205119\n",
        "Strategy : S#q0FIT#q0-q0vD.a->l&q0-q0vC.$->$&, 200487\n",
        "Strategy : S#q0IT#q0-q0vD.l->l&, 181582\n",
        "Strategy : S#q0IT#q0-q0vD.$->$&, 159581\n",
        "Strategy : S#q0FIT#q0-q0vC.$->l&q0-q0vD.a->a&, 156437\n",
        "Strategy : S#q0FIT#q0-q0vC.$->$&q0-q0vD.$->$&, 110494\n",
        "Strategy : S#q0IT#q0-q0vC.$->l&q0-q0vD.l->l&q0-q0vC.a->l&, 105715\n",
        "Strategy : S#q0FIT#q0-q0vD.a->a&q0-q0vC.l->l&, 70766\n",
        "Strategy : S#q0FI&q1T#q0-q1vC.$->$&q1-q0vl.$->$&, 62777\n",
        "Strategy : S#q0FIT#q0-q0vD.a->a&q0-q0vC.$->$&, 58959\n",
        "Strategy : S#q0FI&q1FT#q0-q1vC.l->l&q1-q0vl.$->$&, 56919\n",
        "Strategy : S#q0FIT#q0-q0vC.$->l&q0-q0vC.a->a&q0-q0vD.a->l&, 56632\n",
        "Strategy : S#q0FIT#q0-q0vC.l->l&q0-q0vD.$->$&, 56427\n"
       ]
      }
     ],
     "prompt_number": 22
    },
    {
     "cell_type": "code",
     "collapsed": false,
     "input": [
      "printTop(processTimeSeriesSimple(\"E:\\\\DataSet1\\\\Grid\",0,0.99,0.2),25)"
     ],
     "language": "python",
     "metadata": {},
     "outputs": [
      {
       "output_type": "stream",
       "stream": "stdout",
       "text": [
        "Strategy : S#q0FIT#q0-q0vC.$->$&, 2513423\n",
        "Strategy : S#q0FIT#q0-q0vC.l->a&, 1549146\n",
        "Strategy : S#q0FIT#q0-q0vC.l->l&, 1346455\n",
        "Strategy : S#q0FIT#q0-q0vC.$->$&q0-q0vD.a->l&, 336422\n",
        "Strategy : S#q0FIT#q0-q0vC.$->$&q0-q0vC.a->a&, 308654\n",
        "Strategy : S#q0FIT#q0-q0vC.$->$&q0-q0vD.a->a&, 241435\n",
        "Strategy : S#q0FIT#q0-q0vC.$->l&, 183034\n",
        "Strategy : S#q0FIT#q0-q0vC.$->$&q0-q0vC.a->l&, 181624\n",
        "Strategy : S#q0FIT#q0-q0vC.l->l&q0-q0vD.a->l&, 166342\n",
        "Strategy : S#q0FIT#q0-q0vC.l->a&q0-q0vD.a->l&, 124563\n",
        "Strategy : S#q0FIT#q0-q0vC.$->$&q0-q0vD.a->l&q0-q0vC.a->l&, 116331\n",
        "Strategy : S#q0FI&q1T#q0-q1vC.$->$&q1-q0vC.$->$&q1-q0vD.$->$&, 100775\n",
        "Strategy : S#q0FIT#q0-q0vC.l->l&q0-q0vD.a->a&, 100056\n",
        "Strategy : S#q0FIT#q0-q0vC.$->l&q0-q0vC.a->l&, 88448\n",
        "Strategy : S#q0FIT#q0-q0vD.a->l&q0-q0vC.$->l&, 85847\n",
        "Strategy : S#q0IT#, 60404\n",
        "Strategy : S#q0FIT#q0-q0vC.$->l&q0-q0vD.a->a&, 51586\n",
        "Strategy : S#q0IT#q0-q0vC.l->a&q0-q0vD.$->$&, 47288\n",
        "Strategy : S#q0FI&q1T#q0-q1vC.$->$&q1-q0vD.$->$&q1-q0vC.$->$&, 46658\n",
        "Strategy : S#q0FIT#q0-q0vC.$->$&q0-q0vD.$->$&, 43421\n",
        "Strategy : S#q0FI&q1FT#q0-q1vC.$->$&q1-q0vl.$->$&, 29847\n",
        "Strategy : S#q0FIT#q0-q0vC.$->$&q0-q0vD.$->a&, 29776\n",
        "Strategy : S#q0IT#q0-q0vC.$->$&q0-q0vD.$->$&, 29646\n",
        "Strategy : S#q0FIT#q0-q0vD.a->a&q0-q0vC.$->$&, 27502\n",
        "Strategy : S#q0IT#q0-q0vD.$->$&, 26994\n",
        "Strategy : S#q0FIT#q0-q0vC.l->a&q0-q0vD.$->$&, 25516\n"
       ]
      }
     ],
     "prompt_number": 23
    },
    {
     "cell_type": "code",
     "collapsed": false,
     "input": [
      "printTop(processTimeSeriesSimple(\"E:\\\\DataSet1\\\\Grid\",0,0.8,0.8),25)"
     ],
     "language": "python",
     "metadata": {},
     "outputs": [
      {
       "output_type": "stream",
       "stream": "stdout",
       "text": [
        "Strategy : S#q0FIT#q0-q0vC.$->$&, 9333827\n",
        "Strategy : S#q0FIT#q0-q0vC.$->l&, 3082370\n",
        "Strategy : S#q0FIT#q0-q0vC.$->$&q0-q0vD.$->$&, 2102368\n",
        "Strategy : S#q0FIT#q0-q0vC.l->l&, 1233333\n",
        "Strategy : S#q0FIT#q0-q0vC.$->$&q0-q0vD.l->a&, 986963\n",
        "Strategy : S#q0FIT#q0-q0vC.l->a&, 906698\n",
        "Strategy : S#q0FIT#q0-q0vC.$->$&q0-q0vC.a->l&, 882274\n",
        "Strategy : S#q0FIT#q0-q0vC.$->$&q0-q0vC.a->a&, 821585\n",
        "Strategy : S#q0FIT#q0-q0vC.$->$&q0-q0vD.a->l&, 661719\n",
        "Strategy : S#q0FIT#q0-q0vC.$->$&q0-q0vD.a->a&, 581175\n",
        "Strategy : S#q0FIT#q0-q0vC.$->l&q0-q0vD.$->$&, 561611\n",
        "Strategy : S#q0FIT#q0-q0vC.$->$&q0-q0vD.l->l&, 522971\n",
        "Strategy : S#q0FIT#q0-q0vC.$->l&q0-q0vD.a->l&, 312714\n",
        "Strategy : S#q0FIT#q0-q0vC.$->l&q0-q0vC.a->l&, 307603\n",
        "Strategy : S#q0FIT#q0-q0vC.$->$&q0-q0vC.a->l&q0-q0vD.$->$&, 303936\n",
        "Strategy : S#q0FIT#q0-q0vC.l->l&q0-q0vD.a->a&, 297909\n",
        "Strategy : S#q0FIT#q0-q0vC.$->$&q0-q0vC.a->a&q0-q0vD.$->$&, 289458\n",
        "Strategy : S#q0FIT#q0-q0vC.$->l&q0-q0vD.a->a&, 223823\n",
        "Strategy : S#q0FIT#q0-q0vD.$->$&q0-q0vC.$->$&, 214628\n",
        "Strategy : S#q0FIT#q0-q0vC.a->a&q0-q0vC.$->a&q0-q0vD.$->$&, 208563\n",
        "Strategy : S#q0FIT#q0-q0vC.$->l&q0-q0vD.l->l&, 191545\n",
        "Strategy : S#q0FIT#q0-q0vC.l->a&q0-q0vD.$->$&, 185556\n",
        "Strategy : S#q0FIT#q0-q0vC.$->l&q0-q0vC.a->a&, 181888\n",
        "Strategy : S#q0FIT#q0-q0vC.$->l&q0-q0vC.a->l&q0-q0vD.l->a&, 176871\n",
        "Strategy : S#q0FIT#q0-q0vC.$->l&q0-q0vD.l->a&, 169978\n",
        "Strategy : S#q0FIT#q0-q0vC.$->$&q0-q0vD.$->l&, 163137\n"
       ]
      }
     ],
     "prompt_number": 24
    },
    {
     "cell_type": "code",
     "collapsed": false,
     "input": [
      "printTop(processTimeSeriesSimple(\"E:\\\\DataSet1\\\\Grid\",0,0.7,0.6),25)"
     ],
     "language": "python",
     "metadata": {},
     "outputs": [
      {
       "output_type": "stream",
       "stream": "stdout",
       "text": [
        "Strategy : S#q0FIT#q0-q0vC.$->$&, 10729906\n",
        "Strategy : S#q0FIT#q0-q0vC.l->l&, 5171316\n",
        "Strategy : S#q0FIT#q0-q0vC.$->l&, 4359933\n",
        "Strategy : S#q0FIT#q0-q0vC.$->$&q0-q0vD.$->$&, 1402860\n",
        "Strategy : S#q0FIT#q0-q0vC.$->$&q0-q0vD.a->l&, 1160968\n",
        "Strategy : S#q0FIT#q0-q0vC.$->$&q0-q0vC.a->a&, 1099033\n",
        "Strategy : S#q0FIT#q0-q0vC.l->a&, 1076174\n",
        "Strategy : S#q0FIT#q0-q0vC.$->l&q0-q0vC.a->l&, 1016852\n",
        "Strategy : S#q0FIT#q0-q0vC.$->$&q0-q0vC.a->l&, 940017\n",
        "Strategy : S#q0FIT#q0-q0vC.$->$&q0-q0vD.l->l&, 896658\n",
        "Strategy : S#q0FIT#q0-q0vC.$->$&q0-q0vD.l->a&, 766634\n",
        "Strategy : S#q0FIT#q0-q0vC.l->l&q0-q0vD.$->$&, 596734\n",
        "Strategy : S#q0FIT#q0-q0vC.$->$&q0-q0vD.a->a&, 588303\n",
        "Strategy : S#q0FIT#q0-q0vC.$->l&q0-q0vD.a->l&, 562677\n",
        "Strategy : S#q0FIT#q0-q0vC.$->l&q0-q0vD.$->$&, 524125\n",
        "Strategy : S#q0FIT#q0-q0vC.$->l&q0-q0vD.l->a&, 363334\n",
        "Strategy : S#q0FIT#q0-q0vC.$->l&q0-q0vC.a->a&, 345899\n",
        "Strategy : S#q0FIT#q0-q0vC.$->l&q0-q0vD.l->l&, 325568\n",
        "Strategy : S#q0FIT#q0-q0vC.$->a&q0-q0vC.a->l&, 321803\n",
        "Strategy : S#q0FIT#q0-q0vC.$->l&q0-q0vD.a->a&, 298884\n",
        "Strategy : S#q0FIT#q0-q0vC.l->l&q0-q0vD.l->a&, 276206\n",
        "Strategy : S#q0FIT#q0-q0vC.l->l&q0-q0vD.a->a&, 260889\n",
        "Strategy : S#q0FIT#q0-q0vC.l->l&q0-q0vD.l->l&, 250371\n",
        "Strategy : S#q0FIT#q0-q0vD.l->a&q0-q0vC.$->$&, 192564\n",
        "Strategy : S#q0FIT#q0-q0vC.$->$&q0-q0vC.a->l&q0-q0vD.a->a&, 191470\n",
        "Strategy : S#q0FIT#q0-q0vC.$->$&q0-q0vD.$->$&q0-q0vD.a->l&, 179837\n"
       ]
      }
     ],
     "prompt_number": 26
    },
    {
     "cell_type": "code",
     "collapsed": false,
     "input": [
      "printTop(processTimeSeriesSimple(\"E:\\\\DataSet1\\\\Grid\",0,0.3,0.6),25)"
     ],
     "language": "python",
     "metadata": {},
     "outputs": [
      {
       "output_type": "stream",
       "stream": "stdout",
       "text": [
        "Strategy : S#q0FIT#q0-q0vC.$->$&, 7444849\n",
        "Strategy : S#q0FIT#q0-q0vC.l->l&, 1260329\n",
        "Strategy : S#q0FIT#q0-q0vC.$->l&, 1124381\n",
        "Strategy : S#q0FI&q1T#q0-q1vC.$->$&q1-q0vC.$->$&, 1028359\n",
        "Strategy : S#q0FIT#q0-q0vC.$->$&q0-q0vD.$->$&, 876169\n",
        "Strategy : S#q0FIT#q0-q0vC.$->$&q0-q0vD.a->a&, 783835\n",
        "Strategy : S#q0FIT#q0-q0vC.l->a&, 764196\n",
        "Strategy : S#q0FIT#q0-q0vC.$->$&q0-q0vD.l->a&, 674636\n",
        "Strategy : S#q0FIT#q0-q0vC.$->$&q0-q0vC.a->a&, 663611\n",
        "Strategy : S#q0FIT#q0-q0vC.a->l&q0-q0vC.$->a&, 391199\n",
        "Strategy : S#q0FIT#q0-q0vC.$->$&q0-q0vD.a->l&, 364443\n",
        "Strategy : S#q0FIT#q0-q0vC.$->$&q0-q0vC.a->l&, 362595\n",
        "Strategy : S#q0FI&q1T#q0-q1vC.$->$&q1-q0vC.$->l&, 297732\n",
        "Strategy : S#q0FI&q1T#q0-q1vC.$->l&q1-q0vC.$->$&, 286805\n",
        "Strategy : S#q0FI&q1T#q0-q1vC.$->$&q1-q0vC.l->l&, 286615\n",
        "Strategy : S#q0FIT#q0-q0vC.$->l&q0-q0vD.$->$&, 279580\n",
        "Strategy : S#q0FIT#, 267230\n",
        "Strategy : S#q0FIT#q0-q0vD.a->a&q0-q0vC.$->$&q0-q0vC.a->a&, 257548\n",
        "Strategy : S#q0FIT#q0-q0vC.$->$&q0-q0vD.l->l&, 254337\n",
        "Strategy : S#q0FI&q1T#q0-q1vC.l->l&q1-q0vC.$->$&, 197634\n",
        "Strategy : S#q0FIT#q0-q0vC.a->l&q0-q0vC.$->$&, 173354\n",
        "Strategy : S#q0FIT#q0-q0vC.$->l&q0-q0vD.a->l&, 152149\n",
        "Strategy : S#q0FIT#q0-q0vD.a->l&q0-q0vC.$->$&, 148945\n",
        "Strategy : S#q0FIT#q0-q0vD.a->a&q0-q0vC.$->$&, 148596\n",
        "Strategy : S#q0FIT#q0-q0vC.l->l&q0-q0vD.$->$&, 137177\n",
        "Strategy : S#q0FIT#q0-q0vC.l->l&q0-q0vD.a->a&q0-q0vD.$->$&, 129649\n"
       ]
      }
     ],
     "prompt_number": 36
    },
    {
     "cell_type": "code",
     "collapsed": false,
     "input": [
      "printTop(processTimeSeriesSimple(\"E:\\\\DataSet1\\\\Grid\",0,0.0,0.9),25)"
     ],
     "language": "python",
     "metadata": {},
     "outputs": [
      {
       "output_type": "stream",
       "stream": "stdout",
       "text": [
        "Strategy : S#q0FIT#, 22559073\n",
        "Strategy : S#q0FIT#q0-q0vC.$->$&, 2679250\n",
        "Strategy : S#q0FIT#q0-q0vD.$->$&, 2179303\n",
        "Strategy : S#q0FIT#q0-q0vD.l->a&, 1501433\n",
        "Strategy : S#q0FIT#q0-q0vD.a->a&, 1021337\n",
        "Strategy : S#q0FIT#q0-q0vC.a->a&, 862914\n",
        "Strategy : S#q0FIT#q0-q0vD.a->l&, 846976\n",
        "Strategy : S#q0FIT#q0-q0vD.l->l&, 835173\n",
        "Strategy : S#q0FIT#q0-q0vC.a->l&, 833859\n",
        "Strategy : S#q0FIT#q0-q0vC.l->a&, 782342\n",
        "Strategy : S#q0FIT#q0-q0vl.a->l&, 696072\n",
        "Strategy : S#q0FIT#q0-q0vC.l->l&, 626498\n",
        "Strategy : S#q0FIT#q0-q0vD.$->$&q0-q0vC.$->$&, 214724\n",
        "Strategy : S#q0FIT#q0-q0vC.$->$&q0-q0vD.l->l&, 167388\n",
        "Strategy : S#q0FIT#q0-q0vC.$->$&q0-q0vD.$->$&, 153666\n",
        "Strategy : S#q0FIT#q0-q0vD.$->$&q0-q0vC.a->a&, 134282\n",
        "Strategy : S#q0FIT#q0-q0vC.$->$&q0-q0vD.l->a&, 129822\n",
        "Strategy : S#q0FIT#q0-q0vC.a->l&q0-q0vC.$->$&, 128925\n",
        "Strategy : S#q0FIT#q0-q0vD.l->l&q0-q0vC.l->l&, 128292\n",
        "Strategy : S#q0FIT#q0-q0vD.$->$&q0-q0vC.a->l&, 121097\n",
        "Strategy : S#q0FIT#q0-q0vD.a->a&q0-q0vD.$->$&q0-q0vC.l->a&, 120593\n",
        "Strategy : S#q0FIT#q0-q0vD.a->a&q0-q0vD.$->$&, 119315\n",
        "Strategy : S#q0FIT#q0-q0vD.l->a&q0-q0vC.l->l&, 106065\n",
        "Strategy : S#q0FIT#q0-q0vC.a->a&q0-q0vC.$->$&, 104709\n",
        "Strategy : S#q0FIT#q0-q0vD.l->a&q0-q0vC.$->$&, 100498\n",
        "Strategy : S#q0FIT#q0-q0vD.$->$&q0-q0vD.a->a&, 98345\n"
       ]
      }
     ],
     "prompt_number": 28
    },
    {
     "cell_type": "code",
     "collapsed": false,
     "input": [
      "printTop(processTimeSeriesSimple(\"E:\\\\DataSet1\\\\Grid\",0,0.1,0.95),25)"
     ],
     "language": "python",
     "metadata": {},
     "outputs": [
      {
       "output_type": "stream",
       "stream": "stdout",
       "text": [
        "Strategy : S#q0FIT#q0-q0vC.$->$&, 6258780\n",
        "Strategy : S#q0FIT#q0-q0vC.l->a&, 3823406\n",
        "Strategy : S#q0FIT#q0-q0vC.l->l&, 2833632\n",
        "Strategy : S#q0FIT#q0-q0vC.$->l&, 2529504\n",
        "Strategy : S#q0FIT#q0-q0vC.$->$&q0-q0vD.$->$&, 1046411\n",
        "Strategy : S#q0FIT#q0-q0vC.$->$&q0-q0vD.a->l&, 890119\n",
        "Strategy : S#q0FIT#q0-q0vC.$->$&q0-q0vC.a->l&, 735210\n",
        "Strategy : S#q0FIT#q0-q0vC.$->$&q0-q0vD.a->a&, 730907\n",
        "Strategy : S#q0FIT#, 671310\n",
        "Strategy : S#q0FIT#q0-q0vC.l->l&q0-q0vD.l->l&, 618530\n",
        "Strategy : S#q0FIT#q0-q0vC.$->$&q0-q0vC.a->a&, 579933\n",
        "Strategy : S#q0FIT#q0-q0vC.$->l&q0-q0vD.$->$&, 511825\n",
        "Strategy : S#q0FIT#q0-q0vC.l->a&q0-q0vD.l->l&, 500914\n",
        "Strategy : S#q0FIT#q0-q0vC.l->a&q0-q0vD.$->$&, 473105\n",
        "Strategy : S#q0FIT#q0-q0vC.l->a&q0-q0vD.l->a&, 472834\n",
        "Strategy : S#q0FIT#q0-q0vC.l->l&q0-q0vD.$->$&, 440509\n",
        "Strategy : S#q0FIT#q0-q0vC.l->a&q0-q0vD.a->a&, 408046\n",
        "Strategy : S#q0FIT#q0-q0vC.$->$&q0-q0vD.l->a&, 393229\n",
        "Strategy : S#q0FIT#q0-q0vC.l->a&q0-q0vD.a->l&, 392235\n",
        "Strategy : S#q0FIT#q0-q0vD.$->$&q0-q0vC.$->$&, 391436\n",
        "Strategy : S#q0FIT#q0-q0vC.l->l&q0-q0vD.a->l&, 358330\n",
        "Strategy : S#q0FIT#q0-q0vC.$->l&q0-q0vC.a->l&, 345903\n",
        "Strategy : S#q0FIT#q0-q0vC.l->l&q0-q0vD.l->a&, 326795\n",
        "Strategy : S#q0FIT#q0-q0vC.$->$&q0-q0vD.l->l&, 288933\n",
        "Strategy : S#q0FIT#q0-q0vD.$->$&q0-q0vC.l->l&, 250245\n",
        "Strategy : S#q0FIT#q0-q0vC.l->a&q0-q0vD.$->l&, 228855\n"
       ]
      }
     ],
     "prompt_number": 38
    },
    {
     "cell_type": "markdown",
     "metadata": {},
     "source": [
      "#Noise"
     ]
    },
    {
     "cell_type": "code",
     "collapsed": false,
     "input": [
      "printTop(processTimeSeries(\"E:\\\\Noise\\\\Noisy01.csv\"),25)"
     ],
     "language": "python",
     "metadata": {},
     "outputs": [
      {
       "output_type": "stream",
       "stream": "stdout",
       "text": [
        "Strategy : S#q0FIT#q0-q0vC.$->$&, 8576578\n",
        "Strategy : S#q0FIT#q0-q0vC.l->a&q0-q0vD.a->l&, 6617671\n",
        "Strategy : S#q0FIT#q0-q0vC.l->l&, 4699556\n",
        "Strategy : S#q0FIT#q0-q0vC.$->l&, 3692712\n",
        "Strategy : S#q0FIT#q0-q0vC.$->a&q0-q0vD.a->l&q0-q0vC.a->a&, 2905200\n",
        "Strategy : S#q0FIT#q0-q0vD.a->l&q0-q0vC.a->a&q0-q0vC.$->a&, 2250069\n",
        "Strategy : S#q0I&q1FT#q0-q1vC.$->$&q0-q1vD.$->$&q1-q0vC.$->$&, 998090\n",
        "Strategy : S#q0FIT#q0-q0vD.a->l&q0-q0vC.l->a&, 940285\n",
        "Strategy : S#q0FIT#q0-q0vC.l->l&q0-q0vD.a->a&, 915076\n",
        "Strategy : S#q0I&q1FT#q0-q1vD.$->$&q0-q1vC.$->$&q1-q0vC.$->$&, 805270\n",
        "Strategy : S#q0FIT#q0-q0vD.$->a&q0-q0vC.$->$&q0-q0vC.a->l&, 797339\n",
        "Strategy : S#q0FIT#q0-q0vC.$->$&q0-q0vC.a->l&, 773912\n",
        "Strategy : S#q0FIT#q0-q0vC.$->l&q0-q0vD.a->a&, 766207\n",
        "Strategy : S#q0FIT#q0-q0vD.a->a&q0-q0vC.$->$&, 675875\n",
        "Strategy : S#q0FIT#q0-q0vC.l->a&, 669783\n",
        "Strategy : S#q0FIT#q0-q0vD.a->l&q0-q0vC.$->a&q0-q0vC.a->a&, 661697\n",
        "Strategy : S#q0FIT#q0-q0vC.$->$&q0-q0vD.a->l&, 614783\n",
        "Strategy : S#q0I&q1FT#q0-q1vD.$->l&q0-q1vC.$->$&q1-q0vC.$->$&, 606075\n",
        "Strategy : S#q0FIT#q0-q0vC.$->$&q0-q0vD.a->a&, 574255\n",
        "Strategy : S#q0I&q1FT#q0-q1vC.$->$&q0-q1vD.$->l&q1-q0vC.$->$&, 560534\n",
        "Strategy : S#q0FIT#q0-q0vC.$->$&q0-q0vC.a->a&, 528871\n",
        "Strategy : S#q0IT#, 512545\n",
        "Strategy : S#q0I&q1FT#q0-q1vC.$->$&q0-q0vC.a->l&q0-q1vD.$->$&q0-q0vD.a->l&q1-q0vC.l->a&, 460435\n",
        "Strategy : S#q0I&q1FT#q0-q1vC.$->$&q0-q0vC.a->l&q0-q0vD.a->l&q0-q1vD.$->$&q1-q0vC.l->a&, 430779\n",
        "Strategy : S#q0I&q1FT#q0-q1vC.$->$&q0-q1vD.$->$&q1-q0vC.$->l&, 412989\n",
        "Strategy : S#q0I&q1FT#q0-q1vC.$->$&q0-q0vD.a->l&q0-q0vC.a->l&q0-q1vD.$->$&q1-q0vC.l->a&, 391796\n"
       ]
      }
     ],
     "prompt_number": 42
    },
    {
     "cell_type": "code",
     "collapsed": false,
     "input": [
      "grim=8576578+4699556+3692712+915076\n",
      "other=2905200+2250069\n",
      "grudge=6617671+940285\n",
      "evenGrim=998090+805270 #turns grim if even turns are D, otherwise ALLC\n",
      "1.0*grudge/(grim+other+grudge+evenGrim)"
     ],
     "language": "python",
     "metadata": {},
     "outputs": [
      {
       "metadata": {},
       "output_type": "pyout",
       "prompt_number": 43,
       "text": [
        "0.2332665967233167"
       ]
      }
     ],
     "prompt_number": 43
    },
    {
     "cell_type": "code",
     "collapsed": false,
     "input": [
      "printTop(processTimeSeries(\"E:\\\\Noise2\\\\Noisy05.2.csv\"),35)"
     ],
     "language": "python",
     "metadata": {},
     "outputs": [
      {
       "output_type": "stream",
       "stream": "stdout",
       "text": [
        "Error- probably last line\n",
        "Strategy : S#q0FIT#q0-q0vC.l->a&q0-q0vD.a->l&, 16530405"
       ]
      },
      {
       "output_type": "stream",
       "stream": "stdout",
       "text": [
        "\n",
        "Strategy : S#q0FIT#q0-q0vC.$->$&, 9578858\n",
        "Strategy : S#q0IT#, 9207667\n",
        "Strategy : S#q0FIT#q0-q0vC.l->a&, 5423658\n",
        "Strategy : S#q0FIT#q0-q0vC.l->l&, 4988977\n",
        "Strategy : S#q0FIT#q0-q0vD.a->l&q0-q0vC.l->a&, 4515220\n",
        "Strategy : S#q0FIT#q0-q0vC.$->a&q0-q0vD.a->l&q0-q0vC.a->a&, 3378671\n",
        "Strategy : S#q0FIT#q0-q0vC.a->a&q0-q0vC.$->a&q0-q0vD.a->l&, 3176480\n",
        "Strategy : S#q0FIT#q0-q0vD.a->l&q0-q0vC.$->a&q0-q0vC.a->a&, 3094981\n",
        "Strategy : S#q0FIT#q0-q0vC.$->a&q0-q0vC.a->a&q0-q0vD.a->l&, 2226679\n",
        "Strategy : S#q0FIT#q0-q0vC.$->l&, 1802962\n",
        "Strategy : S#q0FIT#q0-q0vC.$->$&q0-q0vD.a->l&, 1267273\n",
        "Strategy : S#q0FIT#q0-q0vC.$->$&q0-q0vC.a->a&, 975726\n",
        "Strategy : S#q0FIT#q0-q0vC.$->$&q0-q0vC.a->l&, 827686\n",
        "Strategy : S#q0FIT#q0-q0vC.l->l&q0-q0vD.a->l&, 789297\n",
        "Strategy : S#q0FIT#q0-q0vC.$->$&q0-q0vD.a->a&, 788628\n",
        "Strategy : S#q0IT#q0-q0vD.$->$&, 784796\n",
        "Strategy : S#q0IT#q0-q0vl.a->l&, 701318\n",
        "Strategy : S#q0IT#q0-q0vD.a->l&, 639133\n",
        "Strategy : S#q0FI&q1FT#q0-q1vD.$->$&q0-q0vC.$->$&q1-q0vC.$->$&, 633245\n",
        "Strategy : S#q0IT#q0-q0vC.a->a&, 630574\n",
        "Strategy : S#q0FI&q1FT#q0-q0vC.$->$&q0-q1vD.$->$&q1-q0vC.$->$&, 576385\n",
        "Strategy : S#q0IT#q0-q0vC.l->l&, 493227\n",
        "Strategy : S#q0IT#q0-q0vD.l->l&, 477932\n",
        "Strategy : S#q0IT#q0-q0vC.$->$&, 462677\n",
        "Strategy : S#q0IT#q0-q0vC.l->a&, 452358\n",
        "Strategy : S#q0FIT#q0-q0vC.l->l&q0-q0vD.a->a&, 407760\n",
        "Strategy : S#q0FIT#q0-q0vC.$->l&q0-q0vD.a->a&, 388856\n",
        "Strategy : S#q0FIT#q0-q0vC.a->l&q0-q0vC.$->$&, 364206\n",
        "Strategy : S#q0IT#q0-q0vD.a->a&, 330967\n",
        "Strategy : S#q0IT#q0-q0vD.l->a&, 294820\n",
        "Strategy : S#q0IT#q0-q0vC.a->l&, 290401\n",
        "Strategy : S#q0FI&q1FT#q0-q0vD.a->l&q0-q1vC.$->a&q0-q0vC.a->a&q1-q0vl.l->a&, 265779\n",
        "Strategy : S#q0FI&q1FT#q0-q1vD.l->a&q0-q0vC.$->$&q1-q0vC.a->l&, 241504\n",
        "Strategy : S#q0FI&q1FT#q0-q1vC.$->$&q1-q1vC.$->$&q1-q0vD.$->$&, 238141\n",
        "Strategy : S#q0FI&q1FT#q0-q1vD.$->$&q0-q0vC.$->l&q1-q0vC.$->$&, 234048\n"
       ]
      }
     ],
     "prompt_number": 47
    },
    {
     "cell_type": "code",
     "collapsed": false,
     "input": [],
     "language": "python",
     "metadata": {},
     "outputs": []
    }
   ],
   "metadata": {}
  }
 ]
}