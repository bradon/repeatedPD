{
 "metadata": {
  "name": ""
 },
 "nbformat": 3,
 "nbformat_minor": 0,
 "worksheets": [
  {
   "cells": [
    {
     "cell_type": "markdown",
     "metadata": {},
     "source": [
      "#Define functions"
     ]
    },
    {
     "cell_type": "code",
     "collapsed": false,
     "input": [
      "import csv, re\n",
      "import numpy as np\n",
      "import matplotlib.pyplot as plt\n",
      "# Return generator to read through generations\n",
      "def readTimeSeries(filename):\n",
      "    with open(filename,'rb') as timeSeriesFile:\n",
      "        timeSeriesReader=csv.reader(timeSeriesFile)\n",
      "        #Ignore header\n",
      "        timeSeriesReader.next()\n",
      "        for generation in timeSeriesReader:\n",
      "            yield generation\n",
      "            \n",
      "# Process strategies field and return a dictionary of strategy: count\n",
      "def processPopulation(population):\n",
      "    populationArray=population.split(';')\n",
      "    d={}\n",
      "    for i in range(len(populationArray)):\n",
      "        strategyCountPairStrings=str(populationArray[i]).split(',')\n",
      "        countString=strategyCountPairStrings[len(strategyCountPairStrings)-1].split(':')\n",
      "        count=int(countString[len(countString)-1].strip())\n",
      "        d[strategyCountPairStrings[0].strip()]=count\n",
      "    return d\n",
      "    \n",
      "# Process csv into a dictionary of counts over entire run\n",
      "def processTimeSeries(filename):\n",
      "    d={}\n",
      "    for generation in readTimeSeries(filename):\n",
      "        try:\n",
      "            d2=processPopulation(generation[2])\n",
      "            for k in d2:\n",
      "                try:\n",
      "                    d[k]=d[k]+d2[k]\n",
      "                except KeyError:\n",
      "                    d[k]=d2[k]\n",
      "        except:\n",
      "            print(\"Error- probably last line\")\n",
      "    return(d)\n",
      "\n",
      "# Process csv into a dictionary of counts over entire run\n",
      "def processTimeSeriesSkip(filename, skip_rows, max_row):\n",
      "    d={}\n",
      "    i=0\n",
      "    for generation in readTimeSeries(filename):\n",
      "        i=i+1\n",
      "        if i>skip_rows and i<max_row:\n",
      "            try:\n",
      "                d2=processPopulation(generation[2])\n",
      "                for k in d2:\n",
      "                    try:\n",
      "                        d[k]=d[k]+d2[k]\n",
      "                    except KeyError:\n",
      "                        d[k]=d2[k]\n",
      "            except:\n",
      "                print(\"Error- probably last line\")\n",
      "    return(d)\n",
      "\n",
      "def printTop(d, limit):\n",
      "    count=0;\n",
      "    for key, value in sorted(d.iteritems(), key=lambda(k,v):(v,k), reverse=True):\n",
      "        count=count+1\n",
      "        print \"%s, %s\" % (key, value)\n",
      "        if count>limit:\n",
      "            break\n",
      "            \n",
      "def averagePayoff(filename):\n",
      "    count=-1\n",
      "    running_sum=0\n",
      "    for generation in readTimeSeries(filename):\n",
      "        try:\n",
      "            count=count+1\n",
      "            #print(generation[1])\n",
      "            running_sum=running_sum+float(generation[1])\n",
      "        except:\n",
      "            print(\"Error- probably last line\")\n",
      "    return (1.0*running_sum/count)\n",
      "\n",
      "def buildGraph(assortment_vector, delta_vector, number_of_sets, file_path_prefix):\n",
      "    dta=[]\n",
      "    arr=[]\n",
      "    coop=[]\n",
      "    #C:\\Users\\bradon\\Desktop\\30OCT2\\Chopped\n",
      "    blueprint=file_path_prefix+\"_set_{}_delta_{}_r_{}.csv\"\n",
      "    #blueprint='C:\\\\Users\\\\bradon\\\\Desktop\\\\30OCT2\\\\Chopped\\\\DPDALongRun30OCT2_set_{}_delta_{}_r_{}.csv'\n",
      "    #blueprint = 'C:\\\\Users\\\\bradon\\\\Desktop\\\\Detailed Run\\\\DPDALongRun24OCT_set_{}_delta_{}_r_{}.csv'\n",
      "    for r in assortment_vector:\n",
      "        for delta in delta_vector:\n",
      "            for set_number in range(number_of_sets):\n",
      "                coop.append(averagePayoff(blueprint.format(set_number, delta, r)))\n",
      "                arr.append(r)\n",
      "                dta.append(delta)\n",
      "                \n",
      "    plt.scatter(dta, arr, c=coop,s=100)\n",
      "    fig=plt.show()\n",
      "    return [dta, arr, coop]\n",
      "    "
     ],
     "language": "python",
     "metadata": {},
     "outputs": [],
     "prompt_number": 22
    },
    {
     "cell_type": "markdown",
     "metadata": {},
     "source": [
      "#Data"
     ]
    },
    {
     "cell_type": "code",
     "collapsed": false,
     "input": [
      "d=processTimeSeriesSkip(\"C:\\\\Users\\\\bradon\\\\Desktop\\\\FinalNotes\\\\FINALRUN_set_0_delta_0.975_r_0.325.csv\", 1000, 2000)"
     ],
     "language": "python",
     "metadata": {},
     "outputs": [],
     "prompt_number": 28
    },
    {
     "cell_type": "code",
     "collapsed": false,
     "input": [
      "printTop(d,25)"
     ],
     "language": "python",
     "metadata": {},
     "outputs": [
      {
       "output_type": "stream",
       "stream": "stdout",
       "text": [
        "Strategy : S#q0FIT#q0-q0vC.l->a&, 203890\n",
        "Strategy : S#q0IT#q0-q0vC.l->a&q0-q0vD.l->l&, 37653\n",
        "Strategy : S#q0FIT#q0-q0vC.l->a&q0-q0vD.l->l&, 3107\n",
        "Strategy : S#q0IT#q0-q0vD.l->l&, 2164\n",
        "Strategy : S#q0FI&q1T#q0-q1vC.l->a&q1-q0vl.l->l&, 1573\n",
        "Strategy : S#q0IT#q0-q0vC.l->a&, 327\n",
        "Strategy : S#q0FI&q1FT#q0-q1vC.l->a&q1-q0vC.a->a&, 228\n",
        "Strategy : S#q0FIT#q0-q0vC.l->a&q0-q0vD.l->a&, 136\n",
        "Strategy : S#q0FIT#q0-q0vC.l->a&q0-q0vD.$->$&, 124\n",
        "Strategy : S#q0FIT#, 112\n",
        "Strategy : S#q0I&q1T#q0-q0vC.l->a&q0-q1vD.l->l&q1-q0vl.a->a&, 96\n",
        "Strategy : S#q0FI&q1FT#q0-q1vC.l->a&q1-q0vC.l->l&, 50\n",
        "Strategy : S#q0FIT#q0-q0vC.l->a&q0-q0vD.a->l&, 48\n",
        "Strategy : S#q0FIT#q0-q0vC.l->a&q0-q0vD.a->a&, 39\n",
        "Strategy : S#q0FIT#q0-q0vD.l->l&, 30\n",
        "Strategy : S#q0I&q1T#q0-q0vC.l->a&q0-q1vD.l->l&q1-q0vD.a->a&, 26\n",
        "Strategy : S#q0IT#, 14\n",
        "Strategy : S#q0FI&q1T#q0-q1vC.l->a&q1-q0vl.$->$&, 14\n",
        "Strategy : S#q0FI&q1FT#q0-q1vC.l->a&q1-q0vl.l->l&, 12\n",
        "Strategy : S#q0FI&q1FT#q0-q1vC.l->a&q1-q1vC.l->l&, 8\n",
        "Strategy : S#q0FI&q1FT#q0-q1vC.l->a&q1-q0vC.a->l&, 7\n",
        "Strategy : S#q0I&q1FT#q0-q0vC.l->a&q0-q1vD.l->l&q1-q1vC.$->$&, 6\n",
        "Strategy : S#q0FI&q1T#q0-q1vC.l->a&q1-q1vC.l->l&, 6\n",
        "Strategy : S#q0FI&q1FT#q0-q1vC.l->a&q1-q0vC.l->a&, 6\n",
        "Strategy : S#q0FI&q1FT#q0-q1vl.l->a&q1-q0vC.l->l&, 5\n",
        "Strategy : S#q0FI&q1FT#q0-q1vC.l->a&q1-q0vl.l->a&, 5\n"
       ]
      }
     ],
     "prompt_number": 29
    },
    {
     "cell_type": "code",
     "collapsed": false,
     "input": [],
     "language": "python",
     "metadata": {},
     "outputs": []
    }
   ],
   "metadata": {}
  }
 ]
}