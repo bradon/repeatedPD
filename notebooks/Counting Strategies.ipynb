{
 "metadata": {
  "name": ""
 },
 "nbformat": 3,
 "nbformat_minor": 0,
 "worksheets": [
  {
   "cells": [
    {
     "cell_type": "code",
     "collapsed": false,
     "input": [
      "import csv, re\n",
      "# Return generator to read through generations\n",
      "def readTimeSeries(filename):\n",
      "    with open(filename,'rb') as timeSeriesFile:\n",
      "        timeSeriesReader=csv.reader(timeSeriesFile)\n",
      "        #Ignore header\n",
      "        timeSeriesReader.next()\n",
      "        for generation in timeSeriesReader:\n",
      "            yield generation\n",
      "\n",
      "# Process strategies field and return a dictionary of strategy: count\n",
      "def processPopulation(population):\n",
      "    populationArray=population.split(';')\n",
      "    d={}\n",
      "    for i in range(len(populationArray)):\n",
      "        strategyCountPairStrings=str(populationArray[i]).split(',')\n",
      "        countString=strategyCountPairStrings[len(strategyCountPairStrings)-1].split(':')\n",
      "        count=int(countString[len(countString)-1].strip())\n",
      "        #try:\n",
      "        #    d[strategyCountPairStrings[0].strip()]=d[strategyCountPairStrings[0].strip()]+count\n",
      "        #except KeyError:\n",
      "        d[strategyCountPairStrings[0].strip()]=count\n",
      "    return d\n",
      "    \n",
      "# Process csv into a dictionary of counts over entire run\n",
      "def processTimeSeries():\n",
      "    d={}\n",
      "    for generation in readTimeSeries('example.csv'):\n",
      "        d2=processPopulation(generation[2])\n",
      "        for k in d2:\n",
      "            try:\n",
      "                d[k]=d[k]+d2[k]\n",
      "            except KeyError:\n",
      "                d[k]=d2[k]\n",
      "    print(d)\n",
      "        "
     ],
     "language": "python",
     "metadata": {},
     "outputs": [],
     "prompt_number": 106
    },
    {
     "cell_type": "code",
     "collapsed": false,
     "input": [
      "processTimeSeries()"
     ],
     "language": "python",
     "metadata": {},
     "outputs": [
      {
       "output_type": "stream",
       "stream": "stdout",
       "text": [
        "{'Strategy : S#q0T#q0-q0vD.l->l&': 86, 'Strategy : S#q0FT#q0-q0vC.l->l&q0-q0vD.l->l&': 1, 'Strategy : S#q0T#q0-q0vC.l->l&q0-q0vD.l->l&': 3145, 'Strategy : S#q0T#q0-q0vC.l->l&': 16, 'Strategy : S#q0&q1T#q0-q0vC.l->l&q0-q0vD.l->l&q1-q1vC.l->l&q1-q1vD.l->l&': 2}\n"
       ]
      }
     ],
     "prompt_number": 107
    },
    {
     "cell_type": "code",
     "collapsed": false,
     "input": [],
     "language": "python",
     "metadata": {},
     "outputs": []
    }
   ],
   "metadata": {}
  }
 ]
}