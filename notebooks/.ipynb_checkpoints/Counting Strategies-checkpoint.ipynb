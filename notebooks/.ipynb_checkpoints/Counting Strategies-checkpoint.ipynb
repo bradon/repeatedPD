{
 "metadata": {
  "name": ""
 },
 "nbformat": 3,
 "nbformat_minor": 0,
 "worksheets": [
  {
   "cells": [
    {
     "cell_type": "code",
     "collapsed": false,
     "input": [
      "import csv, re\n",
      "# Return generator to read through generations\n",
      "def readTimeSeries(filename):\n",
      "    with open(filename,'rb') as timeSeriesFile:\n",
      "        timeSeriesReader=csv.reader(timeSeriesFile)\n",
      "        #Ignore header\n",
      "        timeSeriesReader.next()\n",
      "        for generation in timeSeriesReader:\n",
      "            yield generation\n",
      "\n",
      "# Process strategies field and return a dictionary of strategy: count\n",
      "def processPopulation(population):\n",
      "    populationArray=population.split(';')\n",
      "    d={}\n",
      "    for i in range(len(populationArray)):\n",
      "        strategyCountPairStrings=str(populationArray[i]).split(',')\n",
      "        countString=strategyCountPairStrings[len(strategyCountPairStrings)-1].split(':')\n",
      "        count=int(countString[len(countString)-1].strip())\n",
      "        d[strategyCountPairStrings[0].strip()]=count\n",
      "    return d\n",
      "    \n",
      "# Process csv into a dictionary of counts over entire run\n",
      "def processTimeSeries(filename):\n",
      "    d={}\n",
      "    for generation in readTimeSeries(filename):\n",
      "        try:\n",
      "            d2=processPopulation(generation[2])\n",
      "            for k in d2:\n",
      "                try:\n",
      "                    d[k]=d[k]+d2[k]\n",
      "                except KeyError:\n",
      "                    d[k]=d2[k]\n",
      "        except:\n",
      "            print(\"Error- probably last line\")\n",
      "    return(d)\n",
      "        "
     ],
     "language": "python",
     "metadata": {},
     "outputs": [],
     "prompt_number": 7
    },
    {
     "cell_type": "code",
     "collapsed": false,
     "input": [
      "#d=processTimeSeries('C:\\\\Users\\\\bradon\\\\Desktop\\\\Detailed Run\\\\DPDALongRun24OCT_set_0_delta_0.8_r_0.4.csv')\n",
      "#d=processTimeSeries(\"C:\\\\Users\\\\bradon\\\\Desktop\\\\Detailed Run\\\\DPDALongRun24OCT_set_1_delta_0.7_r_0.3.csv\")\n",
      "d=processTimeSeries(\"C:\\\\Users\\\\bradon\\\\Desktop\\\\30OCT2\\\\Chopped\\\\DPDALongRun30OCT2_set_0_delta_0.99_r_0.0.csv\")"
     ],
     "language": "python",
     "metadata": {},
     "outputs": [],
     "prompt_number": 94
    },
    {
     "cell_type": "code",
     "collapsed": false,
     "input": [
      "def printTop(d, limit):\n",
      "    count=0;\n",
      "    for key, value in sorted(d.iteritems(), key=lambda(k,v):(v,k), reverse=True):\n",
      "        count=count+1\n",
      "        print \"%s, %s\" % (key, value)\n",
      "        if count>limit:\n",
      "            break"
     ],
     "language": "python",
     "metadata": {},
     "outputs": [],
     "prompt_number": 10
    },
    {
     "cell_type": "code",
     "collapsed": false,
     "input": [
      "printTop(d, 20)"
     ],
     "language": "python",
     "metadata": {},
     "outputs": [
      {
       "output_type": "stream",
       "stream": "stdout",
       "text": [
        "Strategy : S#q0FIT#q0-q0vC.l->a&, 2956625\n",
        "Strategy : S#q0FIT#q0-q0vC.$->$&, 1710361\n",
        "Strategy : S#q0FIT#q0-q0vC.l->l&, 1622309\n",
        "Strategy : S#q0FIT#q0-q0vC.$->$&q0-q0vD.a->a&, 529999\n",
        "Strategy : S#q0FIT#q0-q0vC.l->l&q0-q0vD.a->l&, 277663\n",
        "Strategy : S#q0IT#, 247510\n",
        "Strategy : S#q0FIT#q0-q0vC.l->a&q0-q0vD.a->l&, 245985\n",
        "Strategy : S#q0FIT#q0-q0vD.a->l&q0-q0vC.l->l&, 228875\n",
        "Strategy : S#q0FIT#q0-q0vC.$->$&q0-q0vD.a->l&, 158221\n",
        "Strategy : S#q0FIT#q0-q0vC.$->$&q0-q0vC.a->l&, 122825\n",
        "Strategy : S#q0FIT#q0-q0vC.$->$&q0-q0vC.a->a&, 121495\n",
        "Strategy : S#q0IT#q0-q0vC.a->l&, 49271\n",
        "Strategy : S#q0FIT#q0-q0vC.a->l&q0-q0vC.$->$&, 46751\n",
        "Strategy : S#q0FIT#q0-q0vC.$->l&q0-q0vD.a->a&, 44802\n",
        "Strategy : S#q0FIT#q0-q0vC.l->l&q0-q0vD.a->a&, 40941\n",
        "Strategy : S#q0FI&q1T#q0-q1vC.l->a&q1-q0vl.$->$&, 38912\n",
        "Strategy : S#q0FIT#q0-q0vC.$->$&q0-q0vD.a->l&q0-q0vC.a->a&, 33439\n",
        "Strategy : S#q0FIT#q0-q0vC.l->a&q0-q0vD.$->$&, 29992\n",
        "Strategy : S#q0FI&q1T#q0-q1vC.l->a&q1-q0vD.a->a&q1-q1vD.$->$&q1-q0vC.$->$&, 29414\n",
        "Strategy : S#q0FIT#q0-q0vC.l->a&q0-q0vD.a->a&, 26073\n",
        "Strategy : S#q0IT#q0-q0vD.a->a&q0-q0vD.$->a&q0-q0vC.$->$&, 25991\n"
       ]
      }
     ],
     "prompt_number": 95
    },
    {
     "cell_type": "code",
     "collapsed": false,
     "input": [
      "def averagePayoff(filename):\n",
      "    count=-1\n",
      "    running_sum=0\n",
      "    for generation in readTimeSeries(filename):\n",
      "        try:\n",
      "            count=count+1\n",
      "            #print(generation[1])\n",
      "            running_sum=running_sum+float(generation[1])\n",
      "        except:\n",
      "            print(\"Error- probably last line\")\n",
      "    return (1.0*running_sum/count)\n",
      "    "
     ],
     "language": "python",
     "metadata": {},
     "outputs": [],
     "prompt_number": 4
    },
    {
     "cell_type": "code",
     "collapsed": false,
     "input": [
      "averagePayoff('C:\\\\Users\\\\bradon\\\\Desktop\\\\Detailed Run\\\\DPDALongRun24OCT_set_0_delta_0.99_r_0.1.csv')"
     ],
     "language": "python",
     "metadata": {},
     "outputs": [
      {
       "output_type": "stream",
       "stream": "stdout",
       "text": [
        "739.191003508\n"
       ]
      }
     ],
     "prompt_number": 74
    },
    {
     "cell_type": "code",
     "collapsed": false,
     "input": [
      "import numpy as np\n",
      "import matplotlib.pyplot as plt\n",
      "\n",
      "x = np.random.rand(100)\n",
      "y = np.random.rand(100)\n",
      "t = x+y\n",
      "\n",
      "plt.scatter(x, y, c=t)\n",
      "plt.show()"
     ],
     "language": "python",
     "metadata": {},
     "outputs": [],
     "prompt_number": 31
    },
    {
     "cell_type": "code",
     "collapsed": false,
     "input": [
      "import numpy as np\n",
      "import matplotlib.pyplot as plt\n",
      "import time\n",
      "dta=[0.9,0.9,0.9,0.0,0.0,0.0,0.8,0.8,0.8,0.9,0.7,0.6,0.95,0.99,0.99,0.95,0.95,0.99]\n",
      "r=[0.2,0.2,0.2,0.0,0.0,0.0,0.2,0.2,0.2,0.1,0.2,0.2,0.0,0.0,0.2,0.2,0.1,0.1]\n",
      "coop=[697.88,716.07,713.17,500.21,500.21,500.21,589.10,580.51,574.99,627.46,501.81,500.45,625.81,730.41,736.62,728.08,713.04,739.19]\n",
      "\n",
      "plt.scatter(dta, r, c=coop,s=100)\n",
      "fig=plt.show(block=False)\n",
      "\n",
      "dta=[0.9,0.9,0.9,0.0,0.0,0.0,0.8,0.8,0.8,0.9,0.7,0.6,0.95,0.99,0.99,0.95,0.95,0.99]\n",
      "r=[0.2,0.2,0.2,0.0,0.0,0.0,0.2,0.2,0.2,0.1,0.2,0.2,0.0,0.0,0.2,0.2,0.1,0.1]\n",
      "coop=[0,716.07,713.17,500.21,500.21,500.21,589.10,580.51,574.99,627.46,501.81,500.45,625.81,730.41,736.62,728.08,713.04,739.19]\n",
      "plt.show()\n",
      "\n",
      "plt.scatter(dta, r, c=coop,s=100)\n",
      "fig=plt.show(block=False)\n",
      "#fig=plt.show(block=False)"
     ],
     "language": "python",
     "metadata": {},
     "outputs": [],
     "prompt_number": 7
    },
    {
     "cell_type": "code",
     "collapsed": false,
     "input": [
      "import numpy as np\n",
      "import matplotlib.pyplot as plt\n",
      "\n",
      "def buildGraph():\n",
      "    #assortment_vector = ['0.05','0.15','0.25','0.35','0.45','0.55','0.65','0.75','0.85','0.95']\n",
      "    assortment_vector = ['0.0','0.05','0.1','0.15','0.2','0.25','0.3','0.35','0.4','0.45','0.5','0.55','0.6','0.65','0.7','0.75','0.8','0.85','0.9','0.95','1.0']\n",
      "    #assortment_vector = ['0.0','0.1','0.2']\n",
      "    delta_vector=['0.0','0.05','0.1','0.15','0.2','0.25','0.3','0.35','0.4','0.45','0.5','0.55','0.6','0.65','0.7','0.75','0.8','0.85','0.9','0.95']\n",
      "    #delta_vector = ['0.0','0.1','0.2','0.3','0.4','0.5','0.6','0.7','0.8','0.9','0.95','0.99']\n",
      "    #delta_vector = ['0.0','0.1','0.2','0.3','0.4','0.5','0.6','0.7','0.8','0.9','0.95']\n",
      "    number_of_sets=1\n",
      "    dta=[]\n",
      "    arr=[]\n",
      "    coop=[]\n",
      "    #C:\\Users\\bradon\\Desktop\\30OCT2\\Chopped\n",
      "    blueprint=\"E:\\\\2dGrid\\\\Done\\\\Grid_set_{}_delta_{}_r_{}.csv\"\n",
      "    #blueprint='C:\\\\Users\\\\bradon\\\\Desktop\\\\30OCT2\\\\Chopped\\\\DPDALongRun30OCT2_set_{}_delta_{}_r_{}.csv'\n",
      "    #blueprint = 'C:\\\\Users\\\\bradon\\\\Desktop\\\\Detailed Run\\\\DPDALongRun24OCT_set_{}_delta_{}_r_{}.csv'\n",
      "    for r in assortment_vector:\n",
      "        for delta in delta_vector:\n",
      "            for set_number in range(number_of_sets):\n",
      "                coop.append(averagePayoff(blueprint.format(set_number, delta, r)))\n",
      "                arr.append(r)\n",
      "                dta.append(delta)\n",
      "                \n",
      "    plt.scatter(dta, arr, c=coop,s=100)\n",
      "    fig=plt.show()\n",
      "    return [dta, arr, coop]\n"
     ],
     "language": "python",
     "metadata": {},
     "outputs": [],
     "prompt_number": 108
    },
    {
     "cell_type": "code",
     "collapsed": false,
     "input": [
      "graphData=buildGraph()"
     ],
     "language": "python",
     "metadata": {},
     "outputs": [],
     "prompt_number": 109
    },
    {
     "cell_type": "code",
     "collapsed": false,
     "input": [
      "import numpy as np\n",
      "import matplotlib.pyplot as plt\n",
      "testy=np.reshape((graphData[2]),(11,11))\n",
      "plt.imshow((testy))\n",
      "plt.show()"
     ],
     "language": "python",
     "metadata": {},
     "outputs": [],
     "prompt_number": 97
    },
    {
     "cell_type": "code",
     "collapsed": false,
     "input": [
      "len(graphData[2])"
     ],
     "language": "python",
     "metadata": {},
     "outputs": [
      {
       "metadata": {},
       "output_type": "pyout",
       "prompt_number": 68,
       "text": [
        "121"
       ]
      }
     ],
     "prompt_number": 68
    },
    {
     "cell_type": "code",
     "collapsed": false,
     "input": [
      "plt.scatter(dta,arr,c=coop,s=100)"
     ],
     "language": "python",
     "metadata": {},
     "outputs": [
      {
       "ename": "NameError",
       "evalue": "name 'dta' is not defined",
       "output_type": "pyerr",
       "traceback": [
        "\u001b[1;31m---------------------------------------------------------------------------\u001b[0m\n\u001b[1;31mNameError\u001b[0m                                 Traceback (most recent call last)",
        "\u001b[1;32m<ipython-input-96-83d43ce3fce0>\u001b[0m in \u001b[0;36m<module>\u001b[1;34m()\u001b[0m\n\u001b[1;32m----> 1\u001b[1;33m \u001b[0mplt\u001b[0m\u001b[1;33m.\u001b[0m\u001b[0mscatter\u001b[0m\u001b[1;33m(\u001b[0m\u001b[0mdta\u001b[0m\u001b[1;33m,\u001b[0m\u001b[0marr\u001b[0m\u001b[1;33m,\u001b[0m\u001b[0mc\u001b[0m\u001b[1;33m=\u001b[0m\u001b[0mcoop\u001b[0m\u001b[1;33m,\u001b[0m\u001b[0ms\u001b[0m\u001b[1;33m=\u001b[0m\u001b[1;36m100\u001b[0m\u001b[1;33m)\u001b[0m\u001b[1;33m\u001b[0m\u001b[0m\n\u001b[0m",
        "\u001b[1;31mNameError\u001b[0m: name 'dta' is not defined"
       ]
      }
     ],
     "prompt_number": 96
    },
    {
     "cell_type": "code",
     "collapsed": false,
     "input": [],
     "language": "python",
     "metadata": {},
     "outputs": []
    }
   ],
   "metadata": {}
  }
 ]
}