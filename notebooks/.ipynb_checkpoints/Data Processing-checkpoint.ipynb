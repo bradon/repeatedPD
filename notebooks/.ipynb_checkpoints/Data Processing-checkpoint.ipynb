{
 "metadata": {
  "name": ""
 },
 "nbformat": 3,
 "nbformat_minor": 0,
 "worksheets": [
  {
   "cells": [
    {
     "cell_type": "markdown",
     "metadata": {},
     "source": [
      "#Define functions"
     ]
    },
    {
     "cell_type": "code",
     "collapsed": false,
     "input": [
      "import csv, re\n",
      "import numpy as np\n",
      "import matplotlib.pyplot as plt\n",
      "# Return generator to read through generations\n",
      "def readTimeSeries(filename):\n",
      "    with open(filename,'rb') as timeSeriesFile:\n",
      "        timeSeriesReader=csv.reader(timeSeriesFile)\n",
      "        #Ignore header\n",
      "        timeSeriesReader.next()\n",
      "        for generation in timeSeriesReader:\n",
      "            yield generation\n",
      "            \n",
      "# Process strategies field and return a dictionary of strategy: count\n",
      "def processPopulation(population):\n",
      "    populationArray=population.split(';')\n",
      "    d={}\n",
      "    for i in range(len(populationArray)):\n",
      "        strategyCountPairStrings=str(populationArray[i]).split(',')\n",
      "        countString=strategyCountPairStrings[len(strategyCountPairStrings)-1].split(':')\n",
      "        count=int(countString[len(countString)-1].strip())\n",
      "        d[strategyCountPairStrings[0].strip()]=count\n",
      "    return d\n",
      "    \n",
      "# Process csv into a dictionary of counts over entire run\n",
      "def processTimeSeries(filename):\n",
      "    d={}\n",
      "    for generation in readTimeSeries(filename):\n",
      "        try:\n",
      "            d2=processPopulation(generation[2])\n",
      "            for k in d2:\n",
      "                try:\n",
      "                    d[k]=d[k]+d2[k]\n",
      "                except KeyError:\n",
      "                    d[k]=d2[k]\n",
      "        except:\n",
      "            print(\"Error- probably last line\")\n",
      "    return(d)\n",
      "\n",
      "# Process csv into a dictionary of counts over entire run\n",
      "def processTimeSeriesSkip(filename, skip_rows, max_row):\n",
      "    d={}\n",
      "    i=0\n",
      "    for generation in readTimeSeries(filename):\n",
      "        i++\n",
      "        if i>skip_rows && i<max_row:\n",
      "            try:\n",
      "                d2=processPopulation(generation[2])\n",
      "                for k in d2:\n",
      "                    try:\n",
      "                        d[k]=d[k]+d2[k]\n",
      "                    except KeyError:\n",
      "                        d[k]=d2[k]\n",
      "            except:\n",
      "                print(\"Error- probably last line\")\n",
      "    return(d)\n",
      "\n",
      "def printTop(d, limit):\n",
      "    count=0;\n",
      "    for key, value in sorted(d.iteritems(), key=lambda(k,v):(v,k), reverse=True):\n",
      "        count=count+1\n",
      "        print \"%s, %s\" % (key, value)\n",
      "        if count>limit:\n",
      "            break\n",
      "            \n",
      "def averagePayoff(filename):\n",
      "    count=-1\n",
      "    running_sum=0\n",
      "    for generation in readTimeSeries(filename):\n",
      "        try:\n",
      "            count=count+1\n",
      "            #print(generation[1])\n",
      "            running_sum=running_sum+float(generation[1])\n",
      "        except:\n",
      "            print(\"Error- probably last line\")\n",
      "    return (1.0*running_sum/count)\n",
      "\n",
      "def buildGraph(assortment_vector, delta_vector, number_of_sets, file_path_prefix):\n",
      "    dta=[]\n",
      "    arr=[]\n",
      "    coop=[]\n",
      "    #C:\\Users\\bradon\\Desktop\\30OCT2\\Chopped\n",
      "    blueprint=file_path_prefix+\"_set_{}_delta_{}_r_{}.csv\"\n",
      "    #blueprint='C:\\\\Users\\\\bradon\\\\Desktop\\\\30OCT2\\\\Chopped\\\\DPDALongRun30OCT2_set_{}_delta_{}_r_{}.csv'\n",
      "    #blueprint = 'C:\\\\Users\\\\bradon\\\\Desktop\\\\Detailed Run\\\\DPDALongRun24OCT_set_{}_delta_{}_r_{}.csv'\n",
      "    for r in assortment_vector:\n",
      "        for delta in delta_vector:\n",
      "            for set_number in range(number_of_sets):\n",
      "                coop.append(averagePayoff(blueprint.format(set_number, delta, r)))\n",
      "                arr.append(r)\n",
      "                dta.append(delta)\n",
      "                \n",
      "    plt.scatter(dta, arr, c=coop,s=100)\n",
      "    fig=plt.show()\n",
      "    return [dta, arr, coop]\n",
      "    "
     ],
     "language": "python",
     "metadata": {},
     "outputs": [],
     "prompt_number": 18
    },
    {
     "cell_type": "markdown",
     "metadata": {},
     "source": [
      "#Data"
     ]
    },
    {
     "cell_type": "code",
     "collapsed": false,
     "input": [
      "d=processTimeSeriesSkip(\"C:\\\\Users\\\\bradon\\\\Desktop\\\\FinalNotes\\\\FINALRUN_set_0_delta_0.975_r_0.325.csv\", 10000)"
     ],
     "language": "python",
     "metadata": {},
     "outputs": [
      {
       "ename": "NameError",
       "evalue": "name 'processTimeSeriesSkip' is not defined",
       "output_type": "pyerr",
       "traceback": [
        "\u001b[1;31m---------------------------------------------------------------------------\u001b[0m\n\u001b[1;31mNameError\u001b[0m                                 Traceback (most recent call last)",
        "\u001b[1;32m<ipython-input-19-85bc9108ea73>\u001b[0m in \u001b[0;36m<module>\u001b[1;34m()\u001b[0m\n\u001b[1;32m----> 1\u001b[1;33m \u001b[0md\u001b[0m\u001b[1;33m=\u001b[0m\u001b[0mprocessTimeSeriesSkip\u001b[0m\u001b[1;33m(\u001b[0m\u001b[1;34m\"C:\\\\Users\\\\bradon\\\\Desktop\\\\FinalNotes\\\\FINALRUN_set_0_delta_0.975_r_0.325.csv\"\u001b[0m\u001b[1;33m,\u001b[0m \u001b[1;36m10000\u001b[0m\u001b[1;33m)\u001b[0m\u001b[1;33m\u001b[0m\u001b[0m\n\u001b[0m",
        "\u001b[1;31mNameError\u001b[0m: name 'processTimeSeriesSkip' is not defined"
       ]
      }
     ],
     "prompt_number": 19
    },
    {
     "cell_type": "code",
     "collapsed": false,
     "input": [
      "printTop(d,25)"
     ],
     "language": "python",
     "metadata": {},
     "outputs": [
      {
       "output_type": "stream",
       "stream": "stdout",
       "text": [
        "Strategy : S#q0FIT#q0-q0vC.$->$&, 21535007\n",
        "Strategy : S#q0FIT#q0-q0vC.$->l&, 4508180\n",
        "Strategy : S#q0FIT#q0-q0vC.l->a&, 4398077\n",
        "Strategy : S#q0FIT#q0-q0vC.l->l&, 4136986\n",
        "Strategy : S#q0IT#, 2748921\n",
        "Strategy : S#q0FIT#q0-q0vC.$->$&q0-q0vC.a->a&, 2098584\n",
        "Strategy : S#q0FIT#q0-q0vC.$->$&q0-q0vC.a->l&, 1837548\n",
        "Strategy : S#q0IT#q0-q0vD.$->$&, 1249965\n",
        "Strategy : S#q0FIT#q0-q0vC.$->$&q0-q0vD.a->a&, 1126795\n",
        "Strategy : S#q0FIT#q0-q0vC.$->$&q0-q0vD.a->l&, 1060881\n",
        "Strategy : S#q0IT#q0-q0vD.l->l&, 719779\n",
        "Strategy : S#q0IT#q0-q0vC.$->$&q0-q0vD.$->$&, 708486\n",
        "Strategy : S#q0FIT#q0-q0vC.$->l&q0-q0vD.a->l&, 534787\n",
        "Strategy : S#q0FIT#q0-q0vC.$->$&q0-q0vC.a->a&q0-q0vD.a->l&, 453501\n",
        "Strategy : S#q0FIT#q0-q0vD.a->a&q0-q0vC.$->$&, 414131\n",
        "Strategy : S#q0FIT#q0-q0vC.l->a&q0-q0vD.a->l&, 405234\n",
        "Strategy : S#q0IT#q0-q0vC.$->$&q0-q0vD.l->l&, 392503\n",
        "Strategy : S#q0FIT#q0-q0vC.a->l&q0-q0vC.$->l&, 374982\n",
        "Strategy : S#q0FIT#q0-q0vD.a->a&q0-q0vC.l->l&, 349969\n",
        "Strategy : S#q0FIT#q0-q0vC.l->l&q0-q0vD.a->l&, 330417\n",
        "Strategy : S#q0FIT#q0-q0vC.$->$&q0-q0vD.a->a&q0-q0vC.a->a&, 326139\n",
        "Strategy : S#q0FIT#q0-q0vC.$->l&q0-q0vC.a->l&, 283067\n",
        "Strategy : S#q0FIT#q0-q0vC.$->$&q0-q0vC.a->a&q0-q0vD.a->a&, 280032\n",
        "Strategy : S#q0FIT#q0-q0vC.a->a&q0-q0vC.$->$&, 268202\n",
        "Strategy : S#q0IT#q0-q0vD.a->l&, 262180\n",
        "Strategy : S#q0FIT#q0-q0vC.l->l&q0-q0vD.a->a&, 233002\n"
       ]
      }
     ],
     "prompt_number": 15
    },
    {
     "cell_type": "code",
     "collapsed": false,
     "input": [],
     "language": "python",
     "metadata": {},
     "outputs": []
    }
   ],
   "metadata": {}
  }
 ]
}